{
 "cells": [
  {
   "cell_type": "markdown",
   "id": "0fa7f25e",
   "metadata": {
    "papermill": {
     "duration": 0.009959,
     "end_time": "2024-11-23T14:22:40.839667",
     "exception": false,
     "start_time": "2024-11-23T14:22:40.829708",
     "status": "completed"
    },
    "tags": []
   },
   "source": [
    "# **1 - Veri Setinin Hazırlanması**"
   ]
  },
  {
   "cell_type": "code",
   "execution_count": 1,
   "id": "e2e75171",
   "metadata": {
    "execution": {
     "iopub.execute_input": "2024-11-23T14:22:40.860284Z",
     "iopub.status.busy": "2024-11-23T14:22:40.859893Z",
     "iopub.status.idle": "2024-11-23T14:22:43.138190Z",
     "shell.execute_reply": "2024-11-23T14:22:43.137210Z"
    },
    "papermill": {
     "duration": 2.291926,
     "end_time": "2024-11-23T14:22:43.140712",
     "exception": false,
     "start_time": "2024-11-23T14:22:40.848786",
     "status": "completed"
    },
    "tags": []
   },
   "outputs": [],
   "source": [
    "# Veri işleme ve analiz için kütüphaneler\n",
    "import pandas as pd\n",
    "import numpy as np\n",
    "\n",
    "# Görselleştirme için kütüphaneler\n",
    "import matplotlib.pyplot as plt\n",
    "import seaborn as sns"
   ]
  },
  {
   "cell_type": "code",
   "execution_count": 2,
   "id": "0e96bfc7",
   "metadata": {
    "execution": {
     "iopub.execute_input": "2024-11-23T14:22:43.160846Z",
     "iopub.status.busy": "2024-11-23T14:22:43.160392Z",
     "iopub.status.idle": "2024-11-23T14:22:43.190777Z",
     "shell.execute_reply": "2024-11-23T14:22:43.189990Z"
    },
    "papermill": {
     "duration": 0.042868,
     "end_time": "2024-11-23T14:22:43.192972",
     "exception": false,
     "start_time": "2024-11-23T14:22:43.150104",
     "status": "completed"
    },
    "tags": []
   },
   "outputs": [],
   "source": [
    "# Veri setini dahil etmek\n",
    "df_ = pd.read_csv('/kaggle/input/red-wine-quality-prediction/winequality-red.csv')\n",
    "#verilerinizi kaybetme riskini azaltır.\n",
    "df = df_.copy()"
   ]
  },
  {
   "cell_type": "markdown",
   "id": "a535aa9c",
   "metadata": {
    "papermill": {
     "duration": 0.008749,
     "end_time": "2024-11-23T14:22:43.210924",
     "exception": false,
     "start_time": "2024-11-23T14:22:43.202175",
     "status": "completed"
    },
    "tags": []
   },
   "source": [
    "****"
   ]
  },
  {
   "cell_type": "code",
   "execution_count": 3,
   "id": "f605e4d5",
   "metadata": {
    "execution": {
     "iopub.execute_input": "2024-11-23T14:22:43.230173Z",
     "iopub.status.busy": "2024-11-23T14:22:43.229786Z",
     "iopub.status.idle": "2024-11-23T14:22:43.249803Z",
     "shell.execute_reply": "2024-11-23T14:22:43.248835Z"
    },
    "papermill": {
     "duration": 0.032202,
     "end_time": "2024-11-23T14:22:43.251948",
     "exception": false,
     "start_time": "2024-11-23T14:22:43.219746",
     "status": "completed"
    },
    "tags": []
   },
   "outputs": [],
   "source": [
    "import random\n",
    "\n",
    "\n",
    "# Fonksiyon tanımı\n",
    "def add_random_missing_values(dataframe: pd.DataFrame,\n",
    "                              missing_rate: float = 0.05,\n",
    "                              seed: int = 42) -> pd.DataFrame:\n",
    "    df_with_missing = dataframe.copy()\n",
    "\n",
    "    df_size = dataframe.size\n",
    "    num_missing = int(df_size * missing_rate)\n",
    "\n",
    "    if seed is not None:  \n",
    "        random.seed(seed)\n",
    "\n",
    "    # Rastgele eksik değerler ekleme\n",
    "    for _ in range(num_missing):\n",
    "        row_index = random.randint(0, dataframe.shape[0] - 1)\n",
    "        col_index = random.randint(0, dataframe.shape[1] - 1)\n",
    "        df_with_missing.iat[row_index, col_index] = np.nan\n",
    "\n",
    "    return df_with_missing  # Döngü tamamlandıktan sonra return yapılmalı\n",
    "\n",
    "# Fonksiyon çağrısı\n",
    "df = add_random_missing_values(dataframe=df, missing_rate=0.03)\n"
   ]
  },
  {
   "cell_type": "markdown",
   "id": "9bdd43e3",
   "metadata": {
    "papermill": {
     "duration": 0.00872,
     "end_time": "2024-11-23T14:22:43.269881",
     "exception": false,
     "start_time": "2024-11-23T14:22:43.261161",
     "status": "completed"
    },
    "tags": []
   },
   "source": [
    "# **2-Veriye İlk Bakış**"
   ]
  },
  {
   "cell_type": "code",
   "execution_count": 4,
   "id": "24653f20",
   "metadata": {
    "execution": {
     "iopub.execute_input": "2024-11-23T14:22:43.289640Z",
     "iopub.status.busy": "2024-11-23T14:22:43.288787Z",
     "iopub.status.idle": "2024-11-23T14:22:43.310233Z",
     "shell.execute_reply": "2024-11-23T14:22:43.309249Z"
    },
    "papermill": {
     "duration": 0.033796,
     "end_time": "2024-11-23T14:22:43.312596",
     "exception": false,
     "start_time": "2024-11-23T14:22:43.278800",
     "status": "completed"
    },
    "tags": []
   },
   "outputs": [
    {
     "name": "stdout",
     "output_type": "stream",
     "text": [
      "İlk 5:\n",
      "   fixed acidity  volatile acidity  citric acid  residual sugar  chlorides  \\\n",
      "0            7.4              0.70         0.00             1.9      0.076   \n",
      "1            7.8              0.88         0.00             2.6      0.098   \n",
      "2            7.8              0.76         0.04             2.3      0.092   \n",
      "3           11.2              0.28         0.56             1.9      0.075   \n",
      "4            7.4              0.70         0.00             1.9      0.076   \n",
      "\n",
      "   free sulfur dioxide  total sulfur dioxide  density    pH  sulphates  \\\n",
      "0                 11.0                  34.0   0.9978  3.51       0.56   \n",
      "1                 25.0                  67.0   0.9968  3.20        NaN   \n",
      "2                 15.0                  54.0   0.9970  3.26       0.65   \n",
      "3                 17.0                  60.0   0.9980  3.16       0.58   \n",
      "4                 11.0                  34.0   0.9978  3.51       0.56   \n",
      "\n",
      "   alcohol  quality  \n",
      "0      9.4      5.0  \n",
      "1      9.8      5.0  \n",
      "2      9.8      5.0  \n",
      "3      9.8      6.0  \n",
      "4      9.4      5.0  \n",
      "\n",
      "Son 5:\n",
      "      fixed acidity  volatile acidity  citric acid  residual sugar  chlorides  \\\n",
      "1594            6.2             0.600         0.08             2.0      0.090   \n",
      "1595            5.9             0.550         0.10             2.2      0.062   \n",
      "1596            6.3             0.510         0.13             2.3      0.076   \n",
      "1597            5.9             0.645         0.12             2.0      0.075   \n",
      "1598            6.0             0.310         0.47             3.6      0.067   \n",
      "\n",
      "      free sulfur dioxide  total sulfur dioxide  density    pH  sulphates  \\\n",
      "1594                 32.0                   NaN  0.99490  3.45       0.58   \n",
      "1595                 39.0                  51.0  0.99512  3.52       0.76   \n",
      "1596                 29.0                  40.0  0.99574  3.42       0.75   \n",
      "1597                 32.0                  44.0  0.99547  3.57       0.71   \n",
      "1598                 18.0                  42.0  0.99549  3.39       0.66   \n",
      "\n",
      "      alcohol  quality  \n",
      "1594     10.5      5.0  \n",
      "1595     11.2      6.0  \n",
      "1596     11.0      6.0  \n",
      "1597     10.2      5.0  \n",
      "1598     11.0      6.0  \n"
     ]
    }
   ],
   "source": [
    "#Veri setinin ilk ve son 5 gözlemi\n",
    "print(\"İlk 5:\")\n",
    "print(df.head(n=5))\n",
    "\n",
    "# Son 5 satırı yazdır\n",
    "print(\"\\nSon 5:\")\n",
    "print(df.tail(n=5))"
   ]
  },
  {
   "cell_type": "code",
   "execution_count": 5,
   "id": "8267ffee",
   "metadata": {
    "execution": {
     "iopub.execute_input": "2024-11-23T14:22:43.332757Z",
     "iopub.status.busy": "2024-11-23T14:22:43.332411Z",
     "iopub.status.idle": "2024-11-23T14:22:43.339413Z",
     "shell.execute_reply": "2024-11-23T14:22:43.338491Z"
    },
    "papermill": {
     "duration": 0.019341,
     "end_time": "2024-11-23T14:22:43.341282",
     "exception": false,
     "start_time": "2024-11-23T14:22:43.321941",
     "status": "completed"
    },
    "tags": []
   },
   "outputs": [
    {
     "data": {
      "text/plain": [
       "(1599, 12)"
      ]
     },
     "execution_count": 5,
     "metadata": {},
     "output_type": "execute_result"
    }
   ],
   "source": [
    "df.shape"
   ]
  },
  {
   "cell_type": "code",
   "execution_count": 6,
   "id": "3abc1b40",
   "metadata": {
    "execution": {
     "iopub.execute_input": "2024-11-23T14:22:43.361503Z",
     "iopub.status.busy": "2024-11-23T14:22:43.361111Z",
     "iopub.status.idle": "2024-11-23T14:22:43.366481Z",
     "shell.execute_reply": "2024-11-23T14:22:43.365528Z"
    },
    "papermill": {
     "duration": 0.018142,
     "end_time": "2024-11-23T14:22:43.368683",
     "exception": false,
     "start_time": "2024-11-23T14:22:43.350541",
     "status": "completed"
    },
    "tags": []
   },
   "outputs": [
    {
     "name": "stdout",
     "output_type": "stream",
     "text": [
      "['fixed acidity', 'volatile acidity', 'citric acid', 'residual sugar', 'chlorides', 'free sulfur dioxide', 'total sulfur dioxide', 'density', 'pH', 'sulphates', 'alcohol', 'quality'] \n",
      "\n",
      "Veri seti içerisinde toplam 12 kolon var \n",
      "\n",
      "df.columns'un döndüğü veri tipi: <class 'pandas.core.indexes.base.Index'>\n",
      "\n"
     ]
    }
   ],
   "source": [
    "print(list(df.columns),'\\n')\n",
    "print(f\"Veri seti içerisinde toplam {len(df.columns)} kolon var \\n\")\n",
    "print(f\"df.columns'un döndüğü veri tipi: {type(df.columns)}\\n\")"
   ]
  },
  {
   "cell_type": "code",
   "execution_count": 7,
   "id": "5cec2e67",
   "metadata": {
    "execution": {
     "iopub.execute_input": "2024-11-23T14:22:43.388984Z",
     "iopub.status.busy": "2024-11-23T14:22:43.388296Z",
     "iopub.status.idle": "2024-11-23T14:22:43.412576Z",
     "shell.execute_reply": "2024-11-23T14:22:43.411542Z"
    },
    "papermill": {
     "duration": 0.036527,
     "end_time": "2024-11-23T14:22:43.414649",
     "exception": false,
     "start_time": "2024-11-23T14:22:43.378122",
     "status": "completed"
    },
    "tags": []
   },
   "outputs": [
    {
     "name": "stdout",
     "output_type": "stream",
     "text": [
      "<class 'pandas.core.frame.DataFrame'>\n",
      "RangeIndex: 1599 entries, 0 to 1598\n",
      "Data columns (total 12 columns):\n",
      " #   Column                Non-Null Count  Dtype  \n",
      "---  ------                --------------  -----  \n",
      " 0   fixed acidity         1555 non-null   float64\n",
      " 1   volatile acidity      1546 non-null   float64\n",
      " 2   citric acid           1559 non-null   float64\n",
      " 3   residual sugar        1539 non-null   float64\n",
      " 4   chlorides             1542 non-null   float64\n",
      " 5   free sulfur dioxide   1558 non-null   float64\n",
      " 6   total sulfur dioxide  1547 non-null   float64\n",
      " 7   density               1549 non-null   float64\n",
      " 8   pH                    1557 non-null   float64\n",
      " 9   sulphates             1547 non-null   float64\n",
      " 10  alcohol               1560 non-null   float64\n",
      " 11  quality               1559 non-null   float64\n",
      "dtypes: float64(12)\n",
      "memory usage: 150.0 KB\n"
     ]
    }
   ],
   "source": [
    "df.info()"
   ]
  },
  {
   "cell_type": "code",
   "execution_count": 8,
   "id": "aa218371",
   "metadata": {
    "execution": {
     "iopub.execute_input": "2024-11-23T14:22:43.435735Z",
     "iopub.status.busy": "2024-11-23T14:22:43.435021Z",
     "iopub.status.idle": "2024-11-23T14:22:43.442716Z",
     "shell.execute_reply": "2024-11-23T14:22:43.441832Z"
    },
    "papermill": {
     "duration": 0.020319,
     "end_time": "2024-11-23T14:22:43.444731",
     "exception": false,
     "start_time": "2024-11-23T14:22:43.424412",
     "status": "completed"
    },
    "tags": []
   },
   "outputs": [
    {
     "data": {
      "text/plain": [
       "fixed acidity           float64\n",
       "volatile acidity        float64\n",
       "citric acid             float64\n",
       "residual sugar          float64\n",
       "chlorides               float64\n",
       "free sulfur dioxide     float64\n",
       "total sulfur dioxide    float64\n",
       "density                 float64\n",
       "pH                      float64\n",
       "sulphates               float64\n",
       "alcohol                 float64\n",
       "quality                 float64\n",
       "dtype: object"
      ]
     },
     "execution_count": 8,
     "metadata": {},
     "output_type": "execute_result"
    }
   ],
   "source": [
    "df.dtypes"
   ]
  },
  {
   "cell_type": "code",
   "execution_count": 9,
   "id": "4b28ff50",
   "metadata": {
    "execution": {
     "iopub.execute_input": "2024-11-23T14:22:43.465414Z",
     "iopub.status.busy": "2024-11-23T14:22:43.464937Z",
     "iopub.status.idle": "2024-11-23T14:22:43.470389Z",
     "shell.execute_reply": "2024-11-23T14:22:43.469436Z"
    },
    "papermill": {
     "duration": 0.018027,
     "end_time": "2024-11-23T14:22:43.472364",
     "exception": false,
     "start_time": "2024-11-23T14:22:43.454337",
     "status": "completed"
    },
    "tags": []
   },
   "outputs": [],
   "source": [
    "categorical_features = []\n",
    "numerical_features = []\n",
    "\n",
    "for col in df.columns:\n",
    "    if (df[col].dtype == \"object\") or (df[col].dtype == \"categorical\"):\n",
    "        categorical_features.append(col)\n",
    "    else:\n",
    "        numerical_features.append(col)"
   ]
  },
  {
   "cell_type": "markdown",
   "id": "db8b5fc4",
   "metadata": {
    "papermill": {
     "duration": 0.009163,
     "end_time": "2024-11-23T14:22:43.490933",
     "exception": false,
     "start_time": "2024-11-23T14:22:43.481770",
     "status": "completed"
    },
    "tags": []
   },
   "source": [
    "Kod, döngü tamamlandıktan sonra iki liste oluşturmuş olur:\n",
    "categorical_features: Kategorik özellikleri (sütunları) içeren liste.\n",
    "numerical_features: Sayısal özellikleri (sütunları) içeren liste.\n",
    "Bu kod, pandas DataFrame'inin her sütununun veri türüne göre kategorik ve sayısal özellikleri ayırır. Bu işlem, özellikle veri ön işleme adımlarında (özellikle makine öğrenmesi projelerinde) önemli olabilir çünkü kategorik ve sayısal veriler farklı şekilde işlenir."
   ]
  },
  {
   "cell_type": "code",
   "execution_count": 10,
   "id": "f2ebc645",
   "metadata": {
    "execution": {
     "iopub.execute_input": "2024-11-23T14:22:43.511583Z",
     "iopub.status.busy": "2024-11-23T14:22:43.511152Z",
     "iopub.status.idle": "2024-11-23T14:22:43.517855Z",
     "shell.execute_reply": "2024-11-23T14:22:43.516900Z"
    },
    "papermill": {
     "duration": 0.019339,
     "end_time": "2024-11-23T14:22:43.519823",
     "exception": false,
     "start_time": "2024-11-23T14:22:43.500484",
     "status": "completed"
    },
    "tags": []
   },
   "outputs": [
    {
     "data": {
      "text/plain": [
       "([],\n",
       " ['fixed acidity',\n",
       "  'volatile acidity',\n",
       "  'citric acid',\n",
       "  'residual sugar',\n",
       "  'chlorides',\n",
       "  'free sulfur dioxide',\n",
       "  'total sulfur dioxide',\n",
       "  'density',\n",
       "  'pH',\n",
       "  'sulphates',\n",
       "  'alcohol',\n",
       "  'quality'])"
      ]
     },
     "execution_count": 10,
     "metadata": {},
     "output_type": "execute_result"
    }
   ],
   "source": [
    "categorical_features, numerical_features"
   ]
  },
  {
   "cell_type": "code",
   "execution_count": 11,
   "id": "0638c9c2",
   "metadata": {
    "execution": {
     "iopub.execute_input": "2024-11-23T14:22:43.540594Z",
     "iopub.status.busy": "2024-11-23T14:22:43.539915Z",
     "iopub.status.idle": "2024-11-23T14:22:43.546998Z",
     "shell.execute_reply": "2024-11-23T14:22:43.546060Z"
    },
    "papermill": {
     "duration": 0.019283,
     "end_time": "2024-11-23T14:22:43.548773",
     "exception": false,
     "start_time": "2024-11-23T14:22:43.529490",
     "status": "completed"
    },
    "tags": []
   },
   "outputs": [
    {
     "data": {
      "text/plain": [
       "0    9.4\n",
       "1    9.8\n",
       "2    9.8\n",
       "Name: alcohol, dtype: float64"
      ]
     },
     "execution_count": 11,
     "metadata": {},
     "output_type": "execute_result"
    }
   ],
   "source": [
    "df['alcohol'][:3]"
   ]
  },
  {
   "cell_type": "markdown",
   "id": "64cf0001",
   "metadata": {
    "papermill": {
     "duration": 0.009458,
     "end_time": "2024-11-23T14:22:43.567885",
     "exception": false,
     "start_time": "2024-11-23T14:22:43.558427",
     "status": "completed"
    },
    "tags": []
   },
   "source": [
    "\n",
    "**Bir pandas DataFrame'indeki sayısal sütunlar için özet istatistikler hesaplar.Bu özet istatistikler şunları içerir:count: Verinin sayısı (null olmayan değerlerin sayısı)mean: Ortalamastd: Standart sapmamin: Minimum değer25%: 1. çeyrek (yüzdelik dilim)50%: Medyan (2. çeyrek)75%: 3. çeyrekmax: Maksimum değerBu özet istatistikler, her sayısal sütun için ayrı ayrı hesaplanır.**\n"
   ]
  },
  {
   "cell_type": "code",
   "execution_count": 12,
   "id": "117224c3",
   "metadata": {
    "execution": {
     "iopub.execute_input": "2024-11-23T14:22:43.588503Z",
     "iopub.status.busy": "2024-11-23T14:22:43.588083Z",
     "iopub.status.idle": "2024-11-23T14:22:43.628221Z",
     "shell.execute_reply": "2024-11-23T14:22:43.627192Z"
    },
    "papermill": {
     "duration": 0.052794,
     "end_time": "2024-11-23T14:22:43.630314",
     "exception": false,
     "start_time": "2024-11-23T14:22:43.577520",
     "status": "completed"
    },
    "tags": []
   },
   "outputs": [
    {
     "data": {
      "text/html": [
       "<div>\n",
       "<style scoped>\n",
       "    .dataframe tbody tr th:only-of-type {\n",
       "        vertical-align: middle;\n",
       "    }\n",
       "\n",
       "    .dataframe tbody tr th {\n",
       "        vertical-align: top;\n",
       "    }\n",
       "\n",
       "    .dataframe thead th {\n",
       "        text-align: right;\n",
       "    }\n",
       "</style>\n",
       "<table border=\"1\" class=\"dataframe\">\n",
       "  <thead>\n",
       "    <tr style=\"text-align: right;\">\n",
       "      <th></th>\n",
       "      <th>count</th>\n",
       "      <th>mean</th>\n",
       "      <th>std</th>\n",
       "      <th>min</th>\n",
       "      <th>25%</th>\n",
       "      <th>50%</th>\n",
       "      <th>75%</th>\n",
       "      <th>max</th>\n",
       "    </tr>\n",
       "  </thead>\n",
       "  <tbody>\n",
       "    <tr>\n",
       "      <th>fixed acidity</th>\n",
       "      <td>1555.0</td>\n",
       "      <td>8.320000</td>\n",
       "      <td>1.748651</td>\n",
       "      <td>4.60000</td>\n",
       "      <td>7.1000</td>\n",
       "      <td>7.90000</td>\n",
       "      <td>9.20000</td>\n",
       "      <td>15.90000</td>\n",
       "    </tr>\n",
       "    <tr>\n",
       "      <th>volatile acidity</th>\n",
       "      <td>1546.0</td>\n",
       "      <td>0.528386</td>\n",
       "      <td>0.179297</td>\n",
       "      <td>0.12000</td>\n",
       "      <td>0.3900</td>\n",
       "      <td>0.52000</td>\n",
       "      <td>0.64000</td>\n",
       "      <td>1.58000</td>\n",
       "    </tr>\n",
       "    <tr>\n",
       "      <th>citric acid</th>\n",
       "      <td>1559.0</td>\n",
       "      <td>0.272123</td>\n",
       "      <td>0.194652</td>\n",
       "      <td>0.00000</td>\n",
       "      <td>0.0900</td>\n",
       "      <td>0.26000</td>\n",
       "      <td>0.42500</td>\n",
       "      <td>1.00000</td>\n",
       "    </tr>\n",
       "    <tr>\n",
       "      <th>residual sugar</th>\n",
       "      <td>1539.0</td>\n",
       "      <td>2.546101</td>\n",
       "      <td>1.424622</td>\n",
       "      <td>0.90000</td>\n",
       "      <td>1.9000</td>\n",
       "      <td>2.20000</td>\n",
       "      <td>2.60000</td>\n",
       "      <td>15.50000</td>\n",
       "    </tr>\n",
       "    <tr>\n",
       "      <th>chlorides</th>\n",
       "      <td>1542.0</td>\n",
       "      <td>0.087359</td>\n",
       "      <td>0.046878</td>\n",
       "      <td>0.01200</td>\n",
       "      <td>0.0700</td>\n",
       "      <td>0.07900</td>\n",
       "      <td>0.09000</td>\n",
       "      <td>0.61100</td>\n",
       "    </tr>\n",
       "    <tr>\n",
       "      <th>free sulfur dioxide</th>\n",
       "      <td>1558.0</td>\n",
       "      <td>15.893132</td>\n",
       "      <td>10.514111</td>\n",
       "      <td>1.00000</td>\n",
       "      <td>7.0000</td>\n",
       "      <td>14.00000</td>\n",
       "      <td>21.75000</td>\n",
       "      <td>72.00000</td>\n",
       "    </tr>\n",
       "    <tr>\n",
       "      <th>total sulfur dioxide</th>\n",
       "      <td>1547.0</td>\n",
       "      <td>46.601810</td>\n",
       "      <td>33.040336</td>\n",
       "      <td>6.00000</td>\n",
       "      <td>22.0000</td>\n",
       "      <td>38.00000</td>\n",
       "      <td>62.50000</td>\n",
       "      <td>289.00000</td>\n",
       "    </tr>\n",
       "    <tr>\n",
       "      <th>density</th>\n",
       "      <td>1549.0</td>\n",
       "      <td>0.996763</td>\n",
       "      <td>0.001879</td>\n",
       "      <td>0.99007</td>\n",
       "      <td>0.9956</td>\n",
       "      <td>0.99675</td>\n",
       "      <td>0.99786</td>\n",
       "      <td>1.00369</td>\n",
       "    </tr>\n",
       "    <tr>\n",
       "      <th>pH</th>\n",
       "      <td>1557.0</td>\n",
       "      <td>3.310771</td>\n",
       "      <td>0.154990</td>\n",
       "      <td>2.74000</td>\n",
       "      <td>3.2100</td>\n",
       "      <td>3.31000</td>\n",
       "      <td>3.40000</td>\n",
       "      <td>4.01000</td>\n",
       "    </tr>\n",
       "    <tr>\n",
       "      <th>sulphates</th>\n",
       "      <td>1547.0</td>\n",
       "      <td>0.656587</td>\n",
       "      <td>0.165265</td>\n",
       "      <td>0.33000</td>\n",
       "      <td>0.5500</td>\n",
       "      <td>0.62000</td>\n",
       "      <td>0.73000</td>\n",
       "      <td>1.98000</td>\n",
       "    </tr>\n",
       "    <tr>\n",
       "      <th>alcohol</th>\n",
       "      <td>1560.0</td>\n",
       "      <td>10.429199</td>\n",
       "      <td>1.069766</td>\n",
       "      <td>8.40000</td>\n",
       "      <td>9.5000</td>\n",
       "      <td>10.20000</td>\n",
       "      <td>11.10000</td>\n",
       "      <td>14.90000</td>\n",
       "    </tr>\n",
       "    <tr>\n",
       "      <th>quality</th>\n",
       "      <td>1559.0</td>\n",
       "      <td>5.637588</td>\n",
       "      <td>0.809221</td>\n",
       "      <td>3.00000</td>\n",
       "      <td>5.0000</td>\n",
       "      <td>6.00000</td>\n",
       "      <td>6.00000</td>\n",
       "      <td>8.00000</td>\n",
       "    </tr>\n",
       "  </tbody>\n",
       "</table>\n",
       "</div>"
      ],
      "text/plain": [
       "                       count       mean        std      min      25%  \\\n",
       "fixed acidity         1555.0   8.320000   1.748651  4.60000   7.1000   \n",
       "volatile acidity      1546.0   0.528386   0.179297  0.12000   0.3900   \n",
       "citric acid           1559.0   0.272123   0.194652  0.00000   0.0900   \n",
       "residual sugar        1539.0   2.546101   1.424622  0.90000   1.9000   \n",
       "chlorides             1542.0   0.087359   0.046878  0.01200   0.0700   \n",
       "free sulfur dioxide   1558.0  15.893132  10.514111  1.00000   7.0000   \n",
       "total sulfur dioxide  1547.0  46.601810  33.040336  6.00000  22.0000   \n",
       "density               1549.0   0.996763   0.001879  0.99007   0.9956   \n",
       "pH                    1557.0   3.310771   0.154990  2.74000   3.2100   \n",
       "sulphates             1547.0   0.656587   0.165265  0.33000   0.5500   \n",
       "alcohol               1560.0  10.429199   1.069766  8.40000   9.5000   \n",
       "quality               1559.0   5.637588   0.809221  3.00000   5.0000   \n",
       "\n",
       "                           50%       75%        max  \n",
       "fixed acidity          7.90000   9.20000   15.90000  \n",
       "volatile acidity       0.52000   0.64000    1.58000  \n",
       "citric acid            0.26000   0.42500    1.00000  \n",
       "residual sugar         2.20000   2.60000   15.50000  \n",
       "chlorides              0.07900   0.09000    0.61100  \n",
       "free sulfur dioxide   14.00000  21.75000   72.00000  \n",
       "total sulfur dioxide  38.00000  62.50000  289.00000  \n",
       "density                0.99675   0.99786    1.00369  \n",
       "pH                     3.31000   3.40000    4.01000  \n",
       "sulphates              0.62000   0.73000    1.98000  \n",
       "alcohol               10.20000  11.10000   14.90000  \n",
       "quality                6.00000   6.00000    8.00000  "
      ]
     },
     "execution_count": 12,
     "metadata": {},
     "output_type": "execute_result"
    }
   ],
   "source": [
    "df.describe().T"
   ]
  },
  {
   "cell_type": "markdown",
   "id": "04c7d842",
   "metadata": {
    "papermill": {
     "duration": 0.009644,
     "end_time": "2024-11-23T14:22:43.650072",
     "exception": false,
     "start_time": "2024-11-23T14:22:43.640428",
     "status": "completed"
    },
    "tags": []
   },
   "source": [
    "# **3-Eksik Veri Analizi**"
   ]
  },
  {
   "cell_type": "markdown",
   "id": "8d802540",
   "metadata": {
    "papermill": {
     "duration": 0.009573,
     "end_time": "2024-11-23T14:22:43.669413",
     "exception": false,
     "start_time": "2024-11-23T14:22:43.659840",
     "status": "completed"
    },
    "tags": []
   },
   "source": [
    "**Eksik Olan**"
   ]
  },
  {
   "cell_type": "code",
   "execution_count": 13,
   "id": "3d41f6f2",
   "metadata": {
    "execution": {
     "iopub.execute_input": "2024-11-23T14:22:43.690883Z",
     "iopub.status.busy": "2024-11-23T14:22:43.690254Z",
     "iopub.status.idle": "2024-11-23T14:22:43.697814Z",
     "shell.execute_reply": "2024-11-23T14:22:43.696918Z"
    },
    "papermill": {
     "duration": 0.020391,
     "end_time": "2024-11-23T14:22:43.699662",
     "exception": false,
     "start_time": "2024-11-23T14:22:43.679271",
     "status": "completed"
    },
    "tags": []
   },
   "outputs": [
    {
     "data": {
      "text/plain": [
       "fixed acidity           44\n",
       "volatile acidity        53\n",
       "citric acid             40\n",
       "residual sugar          60\n",
       "chlorides               57\n",
       "free sulfur dioxide     41\n",
       "total sulfur dioxide    52\n",
       "density                 50\n",
       "pH                      42\n",
       "sulphates               52\n",
       "alcohol                 39\n",
       "quality                 40\n",
       "dtype: int64"
      ]
     },
     "execution_count": 13,
     "metadata": {},
     "output_type": "execute_result"
    }
   ],
   "source": [
    "df.isna().sum()"
   ]
  },
  {
   "cell_type": "code",
   "execution_count": 14,
   "id": "d86cd366",
   "metadata": {
    "execution": {
     "iopub.execute_input": "2024-11-23T14:22:43.721289Z",
     "iopub.status.busy": "2024-11-23T14:22:43.720597Z",
     "iopub.status.idle": "2024-11-23T14:22:43.727113Z",
     "shell.execute_reply": "2024-11-23T14:22:43.726237Z"
    },
    "papermill": {
     "duration": 0.019563,
     "end_time": "2024-11-23T14:22:43.729060",
     "exception": false,
     "start_time": "2024-11-23T14:22:43.709497",
     "status": "completed"
    },
    "tags": []
   },
   "outputs": [
    {
     "data": {
      "text/plain": [
       "570"
      ]
     },
     "execution_count": 14,
     "metadata": {},
     "output_type": "execute_result"
    }
   ],
   "source": [
    "df.isna().sum().sum()"
   ]
  },
  {
   "cell_type": "markdown",
   "id": "6c392997",
   "metadata": {
    "papermill": {
     "duration": 0.010245,
     "end_time": "2024-11-23T14:22:43.749837",
     "exception": false,
     "start_time": "2024-11-23T14:22:43.739592",
     "status": "completed"
    },
    "tags": []
   },
   "source": [
    "**Eksik Olmayan**"
   ]
  },
  {
   "cell_type": "code",
   "execution_count": 15,
   "id": "54e3bd04",
   "metadata": {
    "execution": {
     "iopub.execute_input": "2024-11-23T14:22:43.771936Z",
     "iopub.status.busy": "2024-11-23T14:22:43.771109Z",
     "iopub.status.idle": "2024-11-23T14:22:43.778624Z",
     "shell.execute_reply": "2024-11-23T14:22:43.777696Z"
    },
    "papermill": {
     "duration": 0.020787,
     "end_time": "2024-11-23T14:22:43.780624",
     "exception": false,
     "start_time": "2024-11-23T14:22:43.759837",
     "status": "completed"
    },
    "tags": []
   },
   "outputs": [
    {
     "data": {
      "text/plain": [
       "fixed acidity           1555\n",
       "volatile acidity        1546\n",
       "citric acid             1559\n",
       "residual sugar          1539\n",
       "chlorides               1542\n",
       "free sulfur dioxide     1558\n",
       "total sulfur dioxide    1547\n",
       "density                 1549\n",
       "pH                      1557\n",
       "sulphates               1547\n",
       "alcohol                 1560\n",
       "quality                 1559\n",
       "dtype: int64"
      ]
     },
     "execution_count": 15,
     "metadata": {},
     "output_type": "execute_result"
    }
   ],
   "source": [
    "df.notnull().sum()"
   ]
  },
  {
   "cell_type": "code",
   "execution_count": 16,
   "id": "8aad924c",
   "metadata": {
    "execution": {
     "iopub.execute_input": "2024-11-23T14:22:43.802611Z",
     "iopub.status.busy": "2024-11-23T14:22:43.801948Z",
     "iopub.status.idle": "2024-11-23T14:22:43.807967Z",
     "shell.execute_reply": "2024-11-23T14:22:43.807138Z"
    },
    "papermill": {
     "duration": 0.019371,
     "end_time": "2024-11-23T14:22:43.810014",
     "exception": false,
     "start_time": "2024-11-23T14:22:43.790643",
     "status": "completed"
    },
    "tags": []
   },
   "outputs": [
    {
     "name": "stdout",
     "output_type": "stream",
     "text": [
      "Veri seti içerisinde toplam 18618 adet eksik olmayan, 570 eksik gözlem var.\n"
     ]
    }
   ],
   "source": [
    "print(f\"Veri seti içerisinde toplam {df.notnull().sum().sum()} adet eksik olmayan, {df.isnull().sum().sum()} eksik gözlem var.\")"
   ]
  },
  {
   "cell_type": "markdown",
   "id": "4ff4f363",
   "metadata": {
    "papermill": {
     "duration": 0.009843,
     "end_time": "2024-11-23T14:22:43.829959",
     "exception": false,
     "start_time": "2024-11-23T14:22:43.820116",
     "status": "completed"
    },
    "tags": []
   },
   "source": [
    "**Veri setinde en az bir gözlemi eksik olan kayıtlar**"
   ]
  },
  {
   "cell_type": "code",
   "execution_count": 17,
   "id": "506fa1c8",
   "metadata": {
    "execution": {
     "iopub.execute_input": "2024-11-23T14:22:43.851932Z",
     "iopub.status.busy": "2024-11-23T14:22:43.851334Z",
     "iopub.status.idle": "2024-11-23T14:22:43.873628Z",
     "shell.execute_reply": "2024-11-23T14:22:43.872726Z"
    },
    "papermill": {
     "duration": 0.035578,
     "end_time": "2024-11-23T14:22:43.875605",
     "exception": false,
     "start_time": "2024-11-23T14:22:43.840027",
     "status": "completed"
    },
    "tags": []
   },
   "outputs": [
    {
     "data": {
      "text/html": [
       "<div>\n",
       "<style scoped>\n",
       "    .dataframe tbody tr th:only-of-type {\n",
       "        vertical-align: middle;\n",
       "    }\n",
       "\n",
       "    .dataframe tbody tr th {\n",
       "        vertical-align: top;\n",
       "    }\n",
       "\n",
       "    .dataframe thead th {\n",
       "        text-align: right;\n",
       "    }\n",
       "</style>\n",
       "<table border=\"1\" class=\"dataframe\">\n",
       "  <thead>\n",
       "    <tr style=\"text-align: right;\">\n",
       "      <th></th>\n",
       "      <th>fixed acidity</th>\n",
       "      <th>volatile acidity</th>\n",
       "      <th>citric acid</th>\n",
       "      <th>residual sugar</th>\n",
       "      <th>chlorides</th>\n",
       "      <th>free sulfur dioxide</th>\n",
       "      <th>total sulfur dioxide</th>\n",
       "      <th>density</th>\n",
       "      <th>pH</th>\n",
       "      <th>sulphates</th>\n",
       "      <th>alcohol</th>\n",
       "      <th>quality</th>\n",
       "    </tr>\n",
       "  </thead>\n",
       "  <tbody>\n",
       "    <tr>\n",
       "      <th>1</th>\n",
       "      <td>7.8</td>\n",
       "      <td>0.880</td>\n",
       "      <td>0.00</td>\n",
       "      <td>2.6</td>\n",
       "      <td>0.098</td>\n",
       "      <td>25.0</td>\n",
       "      <td>67.0</td>\n",
       "      <td>0.99680</td>\n",
       "      <td>3.20</td>\n",
       "      <td>NaN</td>\n",
       "      <td>9.8</td>\n",
       "      <td>5.0</td>\n",
       "    </tr>\n",
       "    <tr>\n",
       "      <th>6</th>\n",
       "      <td>7.9</td>\n",
       "      <td>0.600</td>\n",
       "      <td>0.06</td>\n",
       "      <td>1.6</td>\n",
       "      <td>0.069</td>\n",
       "      <td>15.0</td>\n",
       "      <td>59.0</td>\n",
       "      <td>0.99640</td>\n",
       "      <td>3.30</td>\n",
       "      <td>0.46</td>\n",
       "      <td>9.4</td>\n",
       "      <td>NaN</td>\n",
       "    </tr>\n",
       "    <tr>\n",
       "      <th>7</th>\n",
       "      <td>7.3</td>\n",
       "      <td>0.650</td>\n",
       "      <td>0.00</td>\n",
       "      <td>1.2</td>\n",
       "      <td>0.065</td>\n",
       "      <td>NaN</td>\n",
       "      <td>21.0</td>\n",
       "      <td>0.99460</td>\n",
       "      <td>3.39</td>\n",
       "      <td>0.47</td>\n",
       "      <td>10.0</td>\n",
       "      <td>7.0</td>\n",
       "    </tr>\n",
       "    <tr>\n",
       "      <th>11</th>\n",
       "      <td>7.5</td>\n",
       "      <td>NaN</td>\n",
       "      <td>0.36</td>\n",
       "      <td>6.1</td>\n",
       "      <td>0.071</td>\n",
       "      <td>17.0</td>\n",
       "      <td>102.0</td>\n",
       "      <td>0.99780</td>\n",
       "      <td>3.35</td>\n",
       "      <td>0.80</td>\n",
       "      <td>10.5</td>\n",
       "      <td>5.0</td>\n",
       "    </tr>\n",
       "    <tr>\n",
       "      <th>12</th>\n",
       "      <td>5.6</td>\n",
       "      <td>0.615</td>\n",
       "      <td>0.00</td>\n",
       "      <td>1.6</td>\n",
       "      <td>0.089</td>\n",
       "      <td>NaN</td>\n",
       "      <td>59.0</td>\n",
       "      <td>0.99430</td>\n",
       "      <td>3.58</td>\n",
       "      <td>0.52</td>\n",
       "      <td>9.9</td>\n",
       "      <td>5.0</td>\n",
       "    </tr>\n",
       "    <tr>\n",
       "      <th>...</th>\n",
       "      <td>...</td>\n",
       "      <td>...</td>\n",
       "      <td>...</td>\n",
       "      <td>...</td>\n",
       "      <td>...</td>\n",
       "      <td>...</td>\n",
       "      <td>...</td>\n",
       "      <td>...</td>\n",
       "      <td>...</td>\n",
       "      <td>...</td>\n",
       "      <td>...</td>\n",
       "      <td>...</td>\n",
       "    </tr>\n",
       "    <tr>\n",
       "      <th>1582</th>\n",
       "      <td>6.1</td>\n",
       "      <td>0.715</td>\n",
       "      <td>0.10</td>\n",
       "      <td>2.6</td>\n",
       "      <td>NaN</td>\n",
       "      <td>13.0</td>\n",
       "      <td>27.0</td>\n",
       "      <td>0.99362</td>\n",
       "      <td>3.57</td>\n",
       "      <td>0.50</td>\n",
       "      <td>11.9</td>\n",
       "      <td>5.0</td>\n",
       "    </tr>\n",
       "    <tr>\n",
       "      <th>1586</th>\n",
       "      <td>7.5</td>\n",
       "      <td>0.310</td>\n",
       "      <td>0.41</td>\n",
       "      <td>2.4</td>\n",
       "      <td>0.065</td>\n",
       "      <td>34.0</td>\n",
       "      <td>60.0</td>\n",
       "      <td>NaN</td>\n",
       "      <td>3.34</td>\n",
       "      <td>0.85</td>\n",
       "      <td>11.4</td>\n",
       "      <td>6.0</td>\n",
       "    </tr>\n",
       "    <tr>\n",
       "      <th>1588</th>\n",
       "      <td>7.2</td>\n",
       "      <td>0.660</td>\n",
       "      <td>0.33</td>\n",
       "      <td>2.5</td>\n",
       "      <td>0.068</td>\n",
       "      <td>34.0</td>\n",
       "      <td>102.0</td>\n",
       "      <td>0.99414</td>\n",
       "      <td>NaN</td>\n",
       "      <td>0.78</td>\n",
       "      <td>12.8</td>\n",
       "      <td>6.0</td>\n",
       "    </tr>\n",
       "    <tr>\n",
       "      <th>1592</th>\n",
       "      <td>6.3</td>\n",
       "      <td>0.510</td>\n",
       "      <td>NaN</td>\n",
       "      <td>2.3</td>\n",
       "      <td>0.076</td>\n",
       "      <td>29.0</td>\n",
       "      <td>40.0</td>\n",
       "      <td>0.99574</td>\n",
       "      <td>3.42</td>\n",
       "      <td>0.75</td>\n",
       "      <td>11.0</td>\n",
       "      <td>6.0</td>\n",
       "    </tr>\n",
       "    <tr>\n",
       "      <th>1594</th>\n",
       "      <td>6.2</td>\n",
       "      <td>0.600</td>\n",
       "      <td>0.08</td>\n",
       "      <td>2.0</td>\n",
       "      <td>0.090</td>\n",
       "      <td>32.0</td>\n",
       "      <td>NaN</td>\n",
       "      <td>0.99490</td>\n",
       "      <td>3.45</td>\n",
       "      <td>0.58</td>\n",
       "      <td>10.5</td>\n",
       "      <td>5.0</td>\n",
       "    </tr>\n",
       "  </tbody>\n",
       "</table>\n",
       "<p>501 rows × 12 columns</p>\n",
       "</div>"
      ],
      "text/plain": [
       "      fixed acidity  volatile acidity  citric acid  residual sugar  chlorides  \\\n",
       "1               7.8             0.880         0.00             2.6      0.098   \n",
       "6               7.9             0.600         0.06             1.6      0.069   \n",
       "7               7.3             0.650         0.00             1.2      0.065   \n",
       "11              7.5               NaN         0.36             6.1      0.071   \n",
       "12              5.6             0.615         0.00             1.6      0.089   \n",
       "...             ...               ...          ...             ...        ...   \n",
       "1582            6.1             0.715         0.10             2.6        NaN   \n",
       "1586            7.5             0.310         0.41             2.4      0.065   \n",
       "1588            7.2             0.660         0.33             2.5      0.068   \n",
       "1592            6.3             0.510          NaN             2.3      0.076   \n",
       "1594            6.2             0.600         0.08             2.0      0.090   \n",
       "\n",
       "      free sulfur dioxide  total sulfur dioxide  density    pH  sulphates  \\\n",
       "1                    25.0                  67.0  0.99680  3.20        NaN   \n",
       "6                    15.0                  59.0  0.99640  3.30       0.46   \n",
       "7                     NaN                  21.0  0.99460  3.39       0.47   \n",
       "11                   17.0                 102.0  0.99780  3.35       0.80   \n",
       "12                    NaN                  59.0  0.99430  3.58       0.52   \n",
       "...                   ...                   ...      ...   ...        ...   \n",
       "1582                 13.0                  27.0  0.99362  3.57       0.50   \n",
       "1586                 34.0                  60.0      NaN  3.34       0.85   \n",
       "1588                 34.0                 102.0  0.99414   NaN       0.78   \n",
       "1592                 29.0                  40.0  0.99574  3.42       0.75   \n",
       "1594                 32.0                   NaN  0.99490  3.45       0.58   \n",
       "\n",
       "      alcohol  quality  \n",
       "1         9.8      5.0  \n",
       "6         9.4      NaN  \n",
       "7        10.0      7.0  \n",
       "11       10.5      5.0  \n",
       "12        9.9      5.0  \n",
       "...       ...      ...  \n",
       "1582     11.9      5.0  \n",
       "1586     11.4      6.0  \n",
       "1588     12.8      6.0  \n",
       "1592     11.0      6.0  \n",
       "1594     10.5      5.0  \n",
       "\n",
       "[501 rows x 12 columns]"
      ]
     },
     "execution_count": 17,
     "metadata": {},
     "output_type": "execute_result"
    }
   ],
   "source": [
    "df[df.isnull().any(axis = 1)]"
   ]
  },
  {
   "cell_type": "markdown",
   "id": "00f3c7c7",
   "metadata": {
    "papermill": {
     "duration": 0.01027,
     "end_time": "2024-11-23T14:22:43.896638",
     "exception": false,
     "start_time": "2024-11-23T14:22:43.886368",
     "status": "completed"
    },
    "tags": []
   },
   "source": [
    "**Hiç eksik gözlemi bulunmayan kayıtlar**"
   ]
  },
  {
   "cell_type": "code",
   "execution_count": 18,
   "id": "5d3a8d95",
   "metadata": {
    "execution": {
     "iopub.execute_input": "2024-11-23T14:22:43.919011Z",
     "iopub.status.busy": "2024-11-23T14:22:43.918664Z",
     "iopub.status.idle": "2024-11-23T14:22:43.939637Z",
     "shell.execute_reply": "2024-11-23T14:22:43.938617Z"
    },
    "papermill": {
     "duration": 0.034486,
     "end_time": "2024-11-23T14:22:43.941600",
     "exception": false,
     "start_time": "2024-11-23T14:22:43.907114",
     "status": "completed"
    },
    "tags": []
   },
   "outputs": [
    {
     "data": {
      "text/html": [
       "<div>\n",
       "<style scoped>\n",
       "    .dataframe tbody tr th:only-of-type {\n",
       "        vertical-align: middle;\n",
       "    }\n",
       "\n",
       "    .dataframe tbody tr th {\n",
       "        vertical-align: top;\n",
       "    }\n",
       "\n",
       "    .dataframe thead th {\n",
       "        text-align: right;\n",
       "    }\n",
       "</style>\n",
       "<table border=\"1\" class=\"dataframe\">\n",
       "  <thead>\n",
       "    <tr style=\"text-align: right;\">\n",
       "      <th></th>\n",
       "      <th>fixed acidity</th>\n",
       "      <th>volatile acidity</th>\n",
       "      <th>citric acid</th>\n",
       "      <th>residual sugar</th>\n",
       "      <th>chlorides</th>\n",
       "      <th>free sulfur dioxide</th>\n",
       "      <th>total sulfur dioxide</th>\n",
       "      <th>density</th>\n",
       "      <th>pH</th>\n",
       "      <th>sulphates</th>\n",
       "      <th>alcohol</th>\n",
       "      <th>quality</th>\n",
       "    </tr>\n",
       "  </thead>\n",
       "  <tbody>\n",
       "    <tr>\n",
       "      <th>0</th>\n",
       "      <td>7.4</td>\n",
       "      <td>0.70</td>\n",
       "      <td>0.00</td>\n",
       "      <td>1.9</td>\n",
       "      <td>0.076</td>\n",
       "      <td>11.0</td>\n",
       "      <td>34.0</td>\n",
       "      <td>0.9978</td>\n",
       "      <td>3.51</td>\n",
       "      <td>0.56</td>\n",
       "      <td>9.4</td>\n",
       "      <td>5.0</td>\n",
       "    </tr>\n",
       "    <tr>\n",
       "      <th>2</th>\n",
       "      <td>7.8</td>\n",
       "      <td>0.76</td>\n",
       "      <td>0.04</td>\n",
       "      <td>2.3</td>\n",
       "      <td>0.092</td>\n",
       "      <td>15.0</td>\n",
       "      <td>54.0</td>\n",
       "      <td>0.9970</td>\n",
       "      <td>3.26</td>\n",
       "      <td>0.65</td>\n",
       "      <td>9.8</td>\n",
       "      <td>5.0</td>\n",
       "    </tr>\n",
       "    <tr>\n",
       "      <th>3</th>\n",
       "      <td>11.2</td>\n",
       "      <td>0.28</td>\n",
       "      <td>0.56</td>\n",
       "      <td>1.9</td>\n",
       "      <td>0.075</td>\n",
       "      <td>17.0</td>\n",
       "      <td>60.0</td>\n",
       "      <td>0.9980</td>\n",
       "      <td>3.16</td>\n",
       "      <td>0.58</td>\n",
       "      <td>9.8</td>\n",
       "      <td>6.0</td>\n",
       "    </tr>\n",
       "    <tr>\n",
       "      <th>4</th>\n",
       "      <td>7.4</td>\n",
       "      <td>0.70</td>\n",
       "      <td>0.00</td>\n",
       "      <td>1.9</td>\n",
       "      <td>0.076</td>\n",
       "      <td>11.0</td>\n",
       "      <td>34.0</td>\n",
       "      <td>0.9978</td>\n",
       "      <td>3.51</td>\n",
       "      <td>0.56</td>\n",
       "      <td>9.4</td>\n",
       "      <td>5.0</td>\n",
       "    </tr>\n",
       "    <tr>\n",
       "      <th>5</th>\n",
       "      <td>7.4</td>\n",
       "      <td>0.66</td>\n",
       "      <td>0.00</td>\n",
       "      <td>1.8</td>\n",
       "      <td>0.075</td>\n",
       "      <td>13.0</td>\n",
       "      <td>40.0</td>\n",
       "      <td>0.9978</td>\n",
       "      <td>3.51</td>\n",
       "      <td>0.56</td>\n",
       "      <td>9.4</td>\n",
       "      <td>5.0</td>\n",
       "    </tr>\n",
       "    <tr>\n",
       "      <th>8</th>\n",
       "      <td>7.8</td>\n",
       "      <td>0.58</td>\n",
       "      <td>0.02</td>\n",
       "      <td>2.0</td>\n",
       "      <td>0.073</td>\n",
       "      <td>9.0</td>\n",
       "      <td>18.0</td>\n",
       "      <td>0.9968</td>\n",
       "      <td>3.36</td>\n",
       "      <td>0.57</td>\n",
       "      <td>9.5</td>\n",
       "      <td>7.0</td>\n",
       "    </tr>\n",
       "    <tr>\n",
       "      <th>9</th>\n",
       "      <td>7.5</td>\n",
       "      <td>0.50</td>\n",
       "      <td>0.36</td>\n",
       "      <td>6.1</td>\n",
       "      <td>0.071</td>\n",
       "      <td>17.0</td>\n",
       "      <td>102.0</td>\n",
       "      <td>0.9978</td>\n",
       "      <td>3.35</td>\n",
       "      <td>0.80</td>\n",
       "      <td>10.5</td>\n",
       "      <td>5.0</td>\n",
       "    </tr>\n",
       "    <tr>\n",
       "      <th>10</th>\n",
       "      <td>6.7</td>\n",
       "      <td>0.58</td>\n",
       "      <td>0.08</td>\n",
       "      <td>1.8</td>\n",
       "      <td>0.097</td>\n",
       "      <td>15.0</td>\n",
       "      <td>65.0</td>\n",
       "      <td>0.9959</td>\n",
       "      <td>3.28</td>\n",
       "      <td>0.54</td>\n",
       "      <td>9.2</td>\n",
       "      <td>5.0</td>\n",
       "    </tr>\n",
       "    <tr>\n",
       "      <th>13</th>\n",
       "      <td>7.8</td>\n",
       "      <td>0.61</td>\n",
       "      <td>0.29</td>\n",
       "      <td>1.6</td>\n",
       "      <td>0.114</td>\n",
       "      <td>9.0</td>\n",
       "      <td>29.0</td>\n",
       "      <td>0.9974</td>\n",
       "      <td>3.26</td>\n",
       "      <td>1.56</td>\n",
       "      <td>9.1</td>\n",
       "      <td>5.0</td>\n",
       "    </tr>\n",
       "    <tr>\n",
       "      <th>15</th>\n",
       "      <td>8.9</td>\n",
       "      <td>0.62</td>\n",
       "      <td>0.19</td>\n",
       "      <td>3.9</td>\n",
       "      <td>0.170</td>\n",
       "      <td>51.0</td>\n",
       "      <td>148.0</td>\n",
       "      <td>0.9986</td>\n",
       "      <td>3.17</td>\n",
       "      <td>0.93</td>\n",
       "      <td>9.2</td>\n",
       "      <td>5.0</td>\n",
       "    </tr>\n",
       "  </tbody>\n",
       "</table>\n",
       "</div>"
      ],
      "text/plain": [
       "    fixed acidity  volatile acidity  citric acid  residual sugar  chlorides  \\\n",
       "0             7.4              0.70         0.00             1.9      0.076   \n",
       "2             7.8              0.76         0.04             2.3      0.092   \n",
       "3            11.2              0.28         0.56             1.9      0.075   \n",
       "4             7.4              0.70         0.00             1.9      0.076   \n",
       "5             7.4              0.66         0.00             1.8      0.075   \n",
       "8             7.8              0.58         0.02             2.0      0.073   \n",
       "9             7.5              0.50         0.36             6.1      0.071   \n",
       "10            6.7              0.58         0.08             1.8      0.097   \n",
       "13            7.8              0.61         0.29             1.6      0.114   \n",
       "15            8.9              0.62         0.19             3.9      0.170   \n",
       "\n",
       "    free sulfur dioxide  total sulfur dioxide  density    pH  sulphates  \\\n",
       "0                  11.0                  34.0   0.9978  3.51       0.56   \n",
       "2                  15.0                  54.0   0.9970  3.26       0.65   \n",
       "3                  17.0                  60.0   0.9980  3.16       0.58   \n",
       "4                  11.0                  34.0   0.9978  3.51       0.56   \n",
       "5                  13.0                  40.0   0.9978  3.51       0.56   \n",
       "8                   9.0                  18.0   0.9968  3.36       0.57   \n",
       "9                  17.0                 102.0   0.9978  3.35       0.80   \n",
       "10                 15.0                  65.0   0.9959  3.28       0.54   \n",
       "13                  9.0                  29.0   0.9974  3.26       1.56   \n",
       "15                 51.0                 148.0   0.9986  3.17       0.93   \n",
       "\n",
       "    alcohol  quality  \n",
       "0       9.4      5.0  \n",
       "2       9.8      5.0  \n",
       "3       9.8      6.0  \n",
       "4       9.4      5.0  \n",
       "5       9.4      5.0  \n",
       "8       9.5      7.0  \n",
       "9      10.5      5.0  \n",
       "10      9.2      5.0  \n",
       "13      9.1      5.0  \n",
       "15      9.2      5.0  "
      ]
     },
     "execution_count": 18,
     "metadata": {},
     "output_type": "execute_result"
    }
   ],
   "source": [
    "df[df.notnull().all(axis = 1)][:10]"
   ]
  },
  {
   "cell_type": "markdown",
   "id": "5e8ee035",
   "metadata": {
    "papermill": {
     "duration": 0.010585,
     "end_time": "2024-11-23T14:22:43.963165",
     "exception": false,
     "start_time": "2024-11-23T14:22:43.952580",
     "status": "completed"
    },
    "tags": []
   },
   "source": [
    "\n",
    "**Aşağıda grafikte görülen öğeler:Çubuklar: Her bir çubuk, DataFrame'deki bir sütunu temsil eder ve çubuğun yüksekliği, o sütundaki eksik verilerin oranına göre belirlenir.Boş alan: Çubuğun boş kısmı, eksik (NaN) olan değerlerin oranını temsil eder.Dolu alan: Çubuğun dolu kısmı, o sütunda eksik olmayan (geçerli) verilerin oranını gösterir.**\n"
   ]
  },
  {
   "cell_type": "code",
   "execution_count": 19,
   "id": "26535008",
   "metadata": {
    "execution": {
     "iopub.execute_input": "2024-11-23T14:22:43.986045Z",
     "iopub.status.busy": "2024-11-23T14:22:43.985692Z",
     "iopub.status.idle": "2024-11-23T14:23:26.262948Z",
     "shell.execute_reply": "2024-11-23T14:23:26.261693Z"
    },
    "papermill": {
     "duration": 42.291737,
     "end_time": "2024-11-23T14:23:26.265629",
     "exception": false,
     "start_time": "2024-11-23T14:22:43.973892",
     "status": "completed"
    },
    "tags": []
   },
   "outputs": [
    {
     "name": "stdout",
     "output_type": "stream",
     "text": [
      "Requirement already satisfied: missingno in /opt/conda/lib/python3.10/site-packages (0.5.2)\r\n",
      "Requirement already satisfied: numpy in /opt/conda/lib/python3.10/site-packages (from missingno) (1.26.4)\r\n",
      "Requirement already satisfied: matplotlib in /opt/conda/lib/python3.10/site-packages (from missingno) (3.7.5)\r\n",
      "Requirement already satisfied: scipy in /opt/conda/lib/python3.10/site-packages (from missingno) (1.14.1)\r\n",
      "Requirement already satisfied: seaborn in /opt/conda/lib/python3.10/site-packages (from missingno) (0.12.2)\r\n",
      "Requirement already satisfied: contourpy>=1.0.1 in /opt/conda/lib/python3.10/site-packages (from matplotlib->missingno) (1.2.1)\r\n",
      "Requirement already satisfied: cycler>=0.10 in /opt/conda/lib/python3.10/site-packages (from matplotlib->missingno) (0.12.1)\r\n",
      "Requirement already satisfied: fonttools>=4.22.0 in /opt/conda/lib/python3.10/site-packages (from matplotlib->missingno) (4.53.0)\r\n",
      "Requirement already satisfied: kiwisolver>=1.0.1 in /opt/conda/lib/python3.10/site-packages (from matplotlib->missingno) (1.4.5)\r\n",
      "Requirement already satisfied: packaging>=20.0 in /opt/conda/lib/python3.10/site-packages (from matplotlib->missingno) (21.3)\r\n",
      "Requirement already satisfied: pillow>=6.2.0 in /opt/conda/lib/python3.10/site-packages (from matplotlib->missingno) (10.3.0)\r\n",
      "Requirement already satisfied: pyparsing>=2.3.1 in /opt/conda/lib/python3.10/site-packages (from matplotlib->missingno) (3.1.2)\r\n",
      "Requirement already satisfied: python-dateutil>=2.7 in /opt/conda/lib/python3.10/site-packages (from matplotlib->missingno) (2.9.0.post0)\r\n",
      "Requirement already satisfied: pandas>=0.25 in /opt/conda/lib/python3.10/site-packages (from seaborn->missingno) (2.2.3)\r\n",
      "Requirement already satisfied: pytz>=2020.1 in /opt/conda/lib/python3.10/site-packages (from pandas>=0.25->seaborn->missingno) (2024.1)\r\n",
      "Requirement already satisfied: tzdata>=2022.7 in /opt/conda/lib/python3.10/site-packages (from pandas>=0.25->seaborn->missingno) (2024.1)\r\n",
      "Requirement already satisfied: six>=1.5 in /opt/conda/lib/python3.10/site-packages (from python-dateutil>=2.7->matplotlib->missingno) (1.16.0)\r\n"
     ]
    }
   ],
   "source": [
    "!pip install missingno"
   ]
  },
  {
   "cell_type": "code",
   "execution_count": 20,
   "id": "6b817445",
   "metadata": {
    "execution": {
     "iopub.execute_input": "2024-11-23T14:23:26.290907Z",
     "iopub.status.busy": "2024-11-23T14:23:26.290152Z",
     "iopub.status.idle": "2024-11-23T14:23:27.465332Z",
     "shell.execute_reply": "2024-11-23T14:23:27.464431Z"
    },
    "papermill": {
     "duration": 1.190826,
     "end_time": "2024-11-23T14:23:27.468270",
     "exception": false,
     "start_time": "2024-11-23T14:23:26.277444",
     "status": "completed"
    },
    "tags": []
   },
   "outputs": [
    {
     "data": {
      "image/png": "[encoded data removed]",
      "text/plain": [
       "<Figure size 800x400 with 3 Axes>"
      ]
     },
     "metadata": {},
     "output_type": "display_data"
    }
   ],
   "source": [
    "import missingno as msno\n",
    "\n",
    "msno.bar(df = df,\n",
    "         figsize = (8, 4),\n",
    "         fontsize = 10,\n",
    "        color = 'green');"
   ]
  },
  {
   "cell_type": "markdown",
   "id": "41f9b08e",
   "metadata": {
    "papermill": {
     "duration": 0.011675,
     "end_time": "2024-11-23T14:23:27.491987",
     "exception": false,
     "start_time": "2024-11-23T14:23:27.480312",
     "status": "completed"
    },
    "tags": []
   },
   "source": [
    "\n",
    "**msno.matrix(df) fonksiyonu, eksik verileri görsel olarak bir matris şeklinde gösterir.Eksik veriler genellikle beyaz renkle, geçerli veriler ise renkli (gri gibi) tonlarla gösterilir.**\n"
   ]
  },
  {
   "cell_type": "code",
   "execution_count": 21,
   "id": "b4387de4",
   "metadata": {
    "execution": {
     "iopub.execute_input": "2024-11-23T14:23:27.517403Z",
     "iopub.status.busy": "2024-11-23T14:23:27.517016Z",
     "iopub.status.idle": "2024-11-23T14:23:27.864446Z",
     "shell.execute_reply": "2024-11-23T14:23:27.863518Z"
    },
    "papermill": {
     "duration": 0.36385,
     "end_time": "2024-11-23T14:23:27.867655",
     "exception": false,
     "start_time": "2024-11-23T14:23:27.503805",
     "status": "completed"
    },
    "tags": []
   },
   "outputs": [
    {
     "data": {
      "image/png": "[encoded data removed]",
      "text/plain": [
       "<Figure size 1000x600 with 2 Axes>"
      ]
     },
     "metadata": {},
     "output_type": "display_data"
    }
   ],
   "source": [
    "msno.matrix(df = df[['citric acid', 'pH','chlorides']],\n",
    "            figsize = (10, 6),\n",
    "            fontsize = 10);"
   ]
  },
  {
   "cell_type": "markdown",
   "id": "f5c5ee4a",
   "metadata": {
    "papermill": {
     "duration": 0.01202,
     "end_time": "2024-11-23T14:23:27.893073",
     "exception": false,
     "start_time": "2024-11-23T14:23:27.881053",
     "status": "completed"
    },
    "tags": []
   },
   "source": [
    "\n",
    "**msno.heatmap() fonksiyonu, eksik verilerin birbirleriyle olan korelasyonunu görsel olarak gösteren bir ısı haritası oluşturur.0.1 değeri, iki sütun arasındaki eksik verilerin zayıf bir ilişkiye sahip olduğunu (yani, bir sütunda eksik veri varsa, diğer sütunda eksik veri olma olasılığının düşük olduğunu) gösterir.**\n"
   ]
  },
  {
   "cell_type": "code",
   "execution_count": 22,
   "id": "ba6414e1",
   "metadata": {
    "execution": {
     "iopub.execute_input": "2024-11-23T14:23:27.919713Z",
     "iopub.status.busy": "2024-11-23T14:23:27.918931Z",
     "iopub.status.idle": "2024-11-23T14:23:28.477768Z",
     "shell.execute_reply": "2024-11-23T14:23:28.476780Z"
    },
    "papermill": {
     "duration": 0.574571,
     "end_time": "2024-11-23T14:23:28.479949",
     "exception": false,
     "start_time": "2024-11-23T14:23:27.905378",
     "status": "completed"
    },
    "tags": []
   },
   "outputs": [
    {
     "data": {
      "image/png": "[encoded data removed]",
      "text/plain": [
       "<Figure size 1000x600 with 2 Axes>"
      ]
     },
     "metadata": {},
     "output_type": "display_data"
    }
   ],
   "source": [
    "msno.heatmap(df = df,\n",
    "             figsize = (10, 6),\n",
    "             fontsize = 10);"
   ]
  },
  {
   "cell_type": "code",
   "execution_count": 23,
   "id": "c06df36f",
   "metadata": {
    "execution": {
     "iopub.execute_input": "2024-11-23T14:23:28.508582Z",
     "iopub.status.busy": "2024-11-23T14:23:28.508180Z",
     "iopub.status.idle": "2024-11-23T14:23:28.517598Z",
     "shell.execute_reply": "2024-11-23T14:23:28.516670Z"
    },
    "papermill": {
     "duration": 0.026138,
     "end_time": "2024-11-23T14:23:28.519867",
     "exception": false,
     "start_time": "2024-11-23T14:23:28.493729",
     "status": "completed"
    },
    "tags": []
   },
   "outputs": [
    {
     "name": "stdout",
     "output_type": "stream",
     "text": [
      "Eksik Verilerin Sayısı:\n",
      "fixed acidity           44\n",
      "volatile acidity        53\n",
      "citric acid             40\n",
      "residual sugar          60\n",
      "chlorides               57\n",
      "free sulfur dioxide     41\n",
      "total sulfur dioxide    52\n",
      "density                 50\n",
      "pH                      42\n",
      "sulphates               52\n",
      "alcohol                 39\n",
      "quality                 40\n",
      "dtype: int64\n",
      "Eksik Verilerin Yüzdesi:\n",
      "fixed acidity           2.751720\n",
      "volatile acidity        3.314572\n",
      "citric acid             2.501563\n",
      "residual sugar          3.752345\n",
      "chlorides               3.564728\n",
      "free sulfur dioxide     2.564103\n",
      "total sulfur dioxide    3.252033\n",
      "density                 3.126954\n",
      "pH                      2.626642\n",
      "sulphates               3.252033\n",
      "alcohol                 2.439024\n",
      "quality                 2.501563\n",
      "dtype: float64\n"
     ]
    }
   ],
   "source": [
    "# Eksik verilerin sayısını gösterir\n",
    "missing_data_count = df.isnull().sum()\n",
    "print(\"Eksik Verilerin Sayısı:\")\n",
    "print(missing_data_count)\n",
    "\n",
    "# Eksik verilerin yüzdesini gösterir\n",
    "missing_data_percentage = (df.isnull().mean() * 100)\n",
    "print(\"Eksik Verilerin Yüzdesi:\")\n",
    "print(missing_data_percentage)\n"
   ]
  },
  {
   "cell_type": "markdown",
   "id": "43f8bacc",
   "metadata": {
    "papermill": {
     "duration": 0.013204,
     "end_time": "2024-11-23T14:23:28.546692",
     "exception": false,
     "start_time": "2024-11-23T14:23:28.533488",
     "status": "completed"
    },
    "tags": []
   },
   "source": [
    "**Her sütundaki eksik verilerin oranı %5'ten az. Bu durumda, eksik verileri silebiliriz**. "
   ]
  },
  {
   "cell_type": "code",
   "execution_count": 24,
   "id": "3a26518d",
   "metadata": {
    "execution": {
     "iopub.execute_input": "2024-11-23T14:23:28.575637Z",
     "iopub.status.busy": "2024-11-23T14:23:28.574645Z",
     "iopub.status.idle": "2024-11-23T14:23:28.596070Z",
     "shell.execute_reply": "2024-11-23T14:23:28.595123Z"
    },
    "papermill": {
     "duration": 0.037793,
     "end_time": "2024-11-23T14:23:28.598027",
     "exception": false,
     "start_time": "2024-11-23T14:23:28.560234",
     "status": "completed"
    },
    "tags": []
   },
   "outputs": [
    {
     "data": {
      "text/html": [
       "<div>\n",
       "<style scoped>\n",
       "    .dataframe tbody tr th:only-of-type {\n",
       "        vertical-align: middle;\n",
       "    }\n",
       "\n",
       "    .dataframe tbody tr th {\n",
       "        vertical-align: top;\n",
       "    }\n",
       "\n",
       "    .dataframe thead th {\n",
       "        text-align: right;\n",
       "    }\n",
       "</style>\n",
       "<table border=\"1\" class=\"dataframe\">\n",
       "  <thead>\n",
       "    <tr style=\"text-align: right;\">\n",
       "      <th></th>\n",
       "      <th>fixed acidity</th>\n",
       "      <th>volatile acidity</th>\n",
       "      <th>citric acid</th>\n",
       "      <th>residual sugar</th>\n",
       "      <th>chlorides</th>\n",
       "      <th>free sulfur dioxide</th>\n",
       "      <th>total sulfur dioxide</th>\n",
       "      <th>density</th>\n",
       "      <th>pH</th>\n",
       "      <th>sulphates</th>\n",
       "      <th>alcohol</th>\n",
       "      <th>quality</th>\n",
       "    </tr>\n",
       "  </thead>\n",
       "  <tbody>\n",
       "    <tr>\n",
       "      <th>0</th>\n",
       "      <td>7.4</td>\n",
       "      <td>0.70</td>\n",
       "      <td>0.00</td>\n",
       "      <td>1.9</td>\n",
       "      <td>0.076</td>\n",
       "      <td>11.0</td>\n",
       "      <td>34.0</td>\n",
       "      <td>0.9978</td>\n",
       "      <td>3.51</td>\n",
       "      <td>0.56</td>\n",
       "      <td>9.4</td>\n",
       "      <td>5.0</td>\n",
       "    </tr>\n",
       "    <tr>\n",
       "      <th>2</th>\n",
       "      <td>7.8</td>\n",
       "      <td>0.76</td>\n",
       "      <td>0.04</td>\n",
       "      <td>2.3</td>\n",
       "      <td>0.092</td>\n",
       "      <td>15.0</td>\n",
       "      <td>54.0</td>\n",
       "      <td>0.9970</td>\n",
       "      <td>3.26</td>\n",
       "      <td>0.65</td>\n",
       "      <td>9.8</td>\n",
       "      <td>5.0</td>\n",
       "    </tr>\n",
       "    <tr>\n",
       "      <th>3</th>\n",
       "      <td>11.2</td>\n",
       "      <td>0.28</td>\n",
       "      <td>0.56</td>\n",
       "      <td>1.9</td>\n",
       "      <td>0.075</td>\n",
       "      <td>17.0</td>\n",
       "      <td>60.0</td>\n",
       "      <td>0.9980</td>\n",
       "      <td>3.16</td>\n",
       "      <td>0.58</td>\n",
       "      <td>9.8</td>\n",
       "      <td>6.0</td>\n",
       "    </tr>\n",
       "    <tr>\n",
       "      <th>4</th>\n",
       "      <td>7.4</td>\n",
       "      <td>0.70</td>\n",
       "      <td>0.00</td>\n",
       "      <td>1.9</td>\n",
       "      <td>0.076</td>\n",
       "      <td>11.0</td>\n",
       "      <td>34.0</td>\n",
       "      <td>0.9978</td>\n",
       "      <td>3.51</td>\n",
       "      <td>0.56</td>\n",
       "      <td>9.4</td>\n",
       "      <td>5.0</td>\n",
       "    </tr>\n",
       "    <tr>\n",
       "      <th>5</th>\n",
       "      <td>7.4</td>\n",
       "      <td>0.66</td>\n",
       "      <td>0.00</td>\n",
       "      <td>1.8</td>\n",
       "      <td>0.075</td>\n",
       "      <td>13.0</td>\n",
       "      <td>40.0</td>\n",
       "      <td>0.9978</td>\n",
       "      <td>3.51</td>\n",
       "      <td>0.56</td>\n",
       "      <td>9.4</td>\n",
       "      <td>5.0</td>\n",
       "    </tr>\n",
       "    <tr>\n",
       "      <th>8</th>\n",
       "      <td>7.8</td>\n",
       "      <td>0.58</td>\n",
       "      <td>0.02</td>\n",
       "      <td>2.0</td>\n",
       "      <td>0.073</td>\n",
       "      <td>9.0</td>\n",
       "      <td>18.0</td>\n",
       "      <td>0.9968</td>\n",
       "      <td>3.36</td>\n",
       "      <td>0.57</td>\n",
       "      <td>9.5</td>\n",
       "      <td>7.0</td>\n",
       "    </tr>\n",
       "    <tr>\n",
       "      <th>9</th>\n",
       "      <td>7.5</td>\n",
       "      <td>0.50</td>\n",
       "      <td>0.36</td>\n",
       "      <td>6.1</td>\n",
       "      <td>0.071</td>\n",
       "      <td>17.0</td>\n",
       "      <td>102.0</td>\n",
       "      <td>0.9978</td>\n",
       "      <td>3.35</td>\n",
       "      <td>0.80</td>\n",
       "      <td>10.5</td>\n",
       "      <td>5.0</td>\n",
       "    </tr>\n",
       "    <tr>\n",
       "      <th>10</th>\n",
       "      <td>6.7</td>\n",
       "      <td>0.58</td>\n",
       "      <td>0.08</td>\n",
       "      <td>1.8</td>\n",
       "      <td>0.097</td>\n",
       "      <td>15.0</td>\n",
       "      <td>65.0</td>\n",
       "      <td>0.9959</td>\n",
       "      <td>3.28</td>\n",
       "      <td>0.54</td>\n",
       "      <td>9.2</td>\n",
       "      <td>5.0</td>\n",
       "    </tr>\n",
       "    <tr>\n",
       "      <th>13</th>\n",
       "      <td>7.8</td>\n",
       "      <td>0.61</td>\n",
       "      <td>0.29</td>\n",
       "      <td>1.6</td>\n",
       "      <td>0.114</td>\n",
       "      <td>9.0</td>\n",
       "      <td>29.0</td>\n",
       "      <td>0.9974</td>\n",
       "      <td>3.26</td>\n",
       "      <td>1.56</td>\n",
       "      <td>9.1</td>\n",
       "      <td>5.0</td>\n",
       "    </tr>\n",
       "  </tbody>\n",
       "</table>\n",
       "</div>"
      ],
      "text/plain": [
       "    fixed acidity  volatile acidity  citric acid  residual sugar  chlorides  \\\n",
       "0             7.4              0.70         0.00             1.9      0.076   \n",
       "2             7.8              0.76         0.04             2.3      0.092   \n",
       "3            11.2              0.28         0.56             1.9      0.075   \n",
       "4             7.4              0.70         0.00             1.9      0.076   \n",
       "5             7.4              0.66         0.00             1.8      0.075   \n",
       "8             7.8              0.58         0.02             2.0      0.073   \n",
       "9             7.5              0.50         0.36             6.1      0.071   \n",
       "10            6.7              0.58         0.08             1.8      0.097   \n",
       "13            7.8              0.61         0.29             1.6      0.114   \n",
       "\n",
       "    free sulfur dioxide  total sulfur dioxide  density    pH  sulphates  \\\n",
       "0                  11.0                  34.0   0.9978  3.51       0.56   \n",
       "2                  15.0                  54.0   0.9970  3.26       0.65   \n",
       "3                  17.0                  60.0   0.9980  3.16       0.58   \n",
       "4                  11.0                  34.0   0.9978  3.51       0.56   \n",
       "5                  13.0                  40.0   0.9978  3.51       0.56   \n",
       "8                   9.0                  18.0   0.9968  3.36       0.57   \n",
       "9                  17.0                 102.0   0.9978  3.35       0.80   \n",
       "10                 15.0                  65.0   0.9959  3.28       0.54   \n",
       "13                  9.0                  29.0   0.9974  3.26       1.56   \n",
       "\n",
       "    alcohol  quality  \n",
       "0       9.4      5.0  \n",
       "2       9.8      5.0  \n",
       "3       9.8      6.0  \n",
       "4       9.4      5.0  \n",
       "5       9.4      5.0  \n",
       "8       9.5      7.0  \n",
       "9      10.5      5.0  \n",
       "10      9.2      5.0  \n",
       "13      9.1      5.0  "
      ]
     },
     "execution_count": 24,
     "metadata": {},
     "output_type": "execute_result"
    }
   ],
   "source": [
    "df.dropna(inplace = False)[:9]"
   ]
  },
  {
   "cell_type": "markdown",
   "id": "a930a2aa",
   "metadata": {
    "papermill": {
     "duration": 0.013511,
     "end_time": "2024-11-23T14:23:28.625403",
     "exception": false,
     "start_time": "2024-11-23T14:23:28.611892",
     "status": "completed"
    },
    "tags": []
   },
   "source": [
    "# **4-Kategorik Değişken Analizi**"
   ]
  },
  {
   "cell_type": "code",
   "execution_count": 25,
   "id": "9edb6ddb",
   "metadata": {
    "execution": {
     "iopub.execute_input": "2024-11-23T14:23:28.654859Z",
     "iopub.status.busy": "2024-11-23T14:23:28.654041Z",
     "iopub.status.idle": "2024-11-23T14:23:28.664719Z",
     "shell.execute_reply": "2024-11-23T14:23:28.663807Z"
    },
    "papermill": {
     "duration": 0.027818,
     "end_time": "2024-11-23T14:23:28.666871",
     "exception": false,
     "start_time": "2024-11-23T14:23:28.639053",
     "status": "completed"
    },
    "tags": []
   },
   "outputs": [
    {
     "name": "stdout",
     "output_type": "stream",
     "text": [
      "<class 'pandas.core.frame.DataFrame'>\n",
      "RangeIndex: 1599 entries, 0 to 1598\n",
      "Data columns (total 12 columns):\n",
      " #   Column                Non-Null Count  Dtype  \n",
      "---  ------                --------------  -----  \n",
      " 0   fixed acidity         1599 non-null   float64\n",
      " 1   volatile acidity      1599 non-null   float64\n",
      " 2   citric acid           1599 non-null   float64\n",
      " 3   residual sugar        1599 non-null   float64\n",
      " 4   chlorides             1599 non-null   float64\n",
      " 5   free sulfur dioxide   1599 non-null   float64\n",
      " 6   total sulfur dioxide  1599 non-null   float64\n",
      " 7   density               1599 non-null   float64\n",
      " 8   pH                    1599 non-null   float64\n",
      " 9   sulphates             1599 non-null   float64\n",
      " 10  alcohol               1599 non-null   float64\n",
      " 11  quality               1599 non-null   int64  \n",
      "dtypes: float64(11), int64(1)\n",
      "memory usage: 150.0 KB\n"
     ]
    }
   ],
   "source": [
    "df = df_.copy()\n",
    "df.info()"
   ]
  },
  {
   "cell_type": "code",
   "execution_count": 26,
   "id": "de636803",
   "metadata": {
    "execution": {
     "iopub.execute_input": "2024-11-23T14:23:28.696996Z",
     "iopub.status.busy": "2024-11-23T14:23:28.696642Z",
     "iopub.status.idle": "2024-11-23T14:23:28.714441Z",
     "shell.execute_reply": "2024-11-23T14:23:28.713282Z"
    },
    "papermill": {
     "duration": 0.035437,
     "end_time": "2024-11-23T14:23:28.716612",
     "exception": false,
     "start_time": "2024-11-23T14:23:28.681175",
     "status": "completed"
    },
    "tags": []
   },
   "outputs": [
    {
     "data": {
      "text/html": [
       "<div>\n",
       "<style scoped>\n",
       "    .dataframe tbody tr th:only-of-type {\n",
       "        vertical-align: middle;\n",
       "    }\n",
       "\n",
       "    .dataframe tbody tr th {\n",
       "        vertical-align: top;\n",
       "    }\n",
       "\n",
       "    .dataframe thead th {\n",
       "        text-align: right;\n",
       "    }\n",
       "</style>\n",
       "<table border=\"1\" class=\"dataframe\">\n",
       "  <thead>\n",
       "    <tr style=\"text-align: right;\">\n",
       "      <th></th>\n",
       "      <th>fixed acidity</th>\n",
       "      <th>volatile acidity</th>\n",
       "      <th>citric acid</th>\n",
       "      <th>residual sugar</th>\n",
       "      <th>chlorides</th>\n",
       "      <th>free sulfur dioxide</th>\n",
       "      <th>total sulfur dioxide</th>\n",
       "      <th>density</th>\n",
       "      <th>pH</th>\n",
       "      <th>sulphates</th>\n",
       "      <th>alcohol</th>\n",
       "    </tr>\n",
       "  </thead>\n",
       "  <tbody>\n",
       "    <tr>\n",
       "      <th>0</th>\n",
       "      <td>7.4</td>\n",
       "      <td>0.70</td>\n",
       "      <td>0.00</td>\n",
       "      <td>1.9</td>\n",
       "      <td>0.076</td>\n",
       "      <td>11.0</td>\n",
       "      <td>34.0</td>\n",
       "      <td>0.9978</td>\n",
       "      <td>3.51</td>\n",
       "      <td>0.56</td>\n",
       "      <td>9.4</td>\n",
       "    </tr>\n",
       "    <tr>\n",
       "      <th>1</th>\n",
       "      <td>7.8</td>\n",
       "      <td>0.88</td>\n",
       "      <td>0.00</td>\n",
       "      <td>2.6</td>\n",
       "      <td>0.098</td>\n",
       "      <td>25.0</td>\n",
       "      <td>67.0</td>\n",
       "      <td>0.9968</td>\n",
       "      <td>3.20</td>\n",
       "      <td>0.68</td>\n",
       "      <td>9.8</td>\n",
       "    </tr>\n",
       "    <tr>\n",
       "      <th>2</th>\n",
       "      <td>7.8</td>\n",
       "      <td>0.76</td>\n",
       "      <td>0.04</td>\n",
       "      <td>2.3</td>\n",
       "      <td>0.092</td>\n",
       "      <td>15.0</td>\n",
       "      <td>54.0</td>\n",
       "      <td>0.9970</td>\n",
       "      <td>3.26</td>\n",
       "      <td>0.65</td>\n",
       "      <td>9.8</td>\n",
       "    </tr>\n",
       "    <tr>\n",
       "      <th>3</th>\n",
       "      <td>11.2</td>\n",
       "      <td>0.28</td>\n",
       "      <td>0.56</td>\n",
       "      <td>1.9</td>\n",
       "      <td>0.075</td>\n",
       "      <td>17.0</td>\n",
       "      <td>60.0</td>\n",
       "      <td>0.9980</td>\n",
       "      <td>3.16</td>\n",
       "      <td>0.58</td>\n",
       "      <td>9.8</td>\n",
       "    </tr>\n",
       "    <tr>\n",
       "      <th>4</th>\n",
       "      <td>7.4</td>\n",
       "      <td>0.70</td>\n",
       "      <td>0.00</td>\n",
       "      <td>1.9</td>\n",
       "      <td>0.076</td>\n",
       "      <td>11.0</td>\n",
       "      <td>34.0</td>\n",
       "      <td>0.9978</td>\n",
       "      <td>3.51</td>\n",
       "      <td>0.56</td>\n",
       "      <td>9.4</td>\n",
       "    </tr>\n",
       "    <tr>\n",
       "      <th>5</th>\n",
       "      <td>7.4</td>\n",
       "      <td>0.66</td>\n",
       "      <td>0.00</td>\n",
       "      <td>1.8</td>\n",
       "      <td>0.075</td>\n",
       "      <td>13.0</td>\n",
       "      <td>40.0</td>\n",
       "      <td>0.9978</td>\n",
       "      <td>3.51</td>\n",
       "      <td>0.56</td>\n",
       "      <td>9.4</td>\n",
       "    </tr>\n",
       "  </tbody>\n",
       "</table>\n",
       "</div>"
      ],
      "text/plain": [
       "   fixed acidity  volatile acidity  citric acid  residual sugar  chlorides  \\\n",
       "0            7.4              0.70         0.00             1.9      0.076   \n",
       "1            7.8              0.88         0.00             2.6      0.098   \n",
       "2            7.8              0.76         0.04             2.3      0.092   \n",
       "3           11.2              0.28         0.56             1.9      0.075   \n",
       "4            7.4              0.70         0.00             1.9      0.076   \n",
       "5            7.4              0.66         0.00             1.8      0.075   \n",
       "\n",
       "   free sulfur dioxide  total sulfur dioxide  density    pH  sulphates  \\\n",
       "0                 11.0                  34.0   0.9978  3.51       0.56   \n",
       "1                 25.0                  67.0   0.9968  3.20       0.68   \n",
       "2                 15.0                  54.0   0.9970  3.26       0.65   \n",
       "3                 17.0                  60.0   0.9980  3.16       0.58   \n",
       "4                 11.0                  34.0   0.9978  3.51       0.56   \n",
       "5                 13.0                  40.0   0.9978  3.51       0.56   \n",
       "\n",
       "   alcohol  \n",
       "0      9.4  \n",
       "1      9.8  \n",
       "2      9.8  \n",
       "3      9.8  \n",
       "4      9.4  \n",
       "5      9.4  "
      ]
     },
     "execution_count": 26,
     "metadata": {},
     "output_type": "execute_result"
    }
   ],
   "source": [
    "df_numerical = df.select_dtypes(include = \"float64\")\n",
    "df_numerical.head(6)"
   ]
  },
  {
   "cell_type": "code",
   "execution_count": 27,
   "id": "efc62823",
   "metadata": {
    "execution": {
     "iopub.execute_input": "2024-11-23T14:23:28.746639Z",
     "iopub.status.busy": "2024-11-23T14:23:28.746252Z",
     "iopub.status.idle": "2024-11-23T14:23:28.756535Z",
     "shell.execute_reply": "2024-11-23T14:23:28.755614Z"
    },
    "papermill": {
     "duration": 0.02754,
     "end_time": "2024-11-23T14:23:28.758529",
     "exception": false,
     "start_time": "2024-11-23T14:23:28.730989",
     "status": "completed"
    },
    "tags": []
   },
   "outputs": [
    {
     "data": {
      "text/plain": [
       "array([ 9.4       ,  9.8       , 10.        ,  9.5       , 10.5       ,\n",
       "        9.2       ,  9.9       ,  9.1       ,  9.3       ,  9.        ,\n",
       "        9.7       , 10.1       , 10.6       ,  9.6       , 10.8       ,\n",
       "       10.3       , 13.1       , 10.2       , 10.9       , 10.7       ,\n",
       "       12.9       , 10.4       , 13.        , 14.        , 11.5       ,\n",
       "       11.4       , 12.4       , 11.        , 12.2       , 12.8       ,\n",
       "       12.6       , 12.5       , 11.7       , 11.3       , 12.3       ,\n",
       "       12.        , 11.9       , 11.8       ,  8.7       , 13.3       ,\n",
       "       11.2       , 11.6       , 11.1       , 13.4       , 12.1       ,\n",
       "        8.4       , 12.7       , 14.9       , 13.2       , 13.6       ,\n",
       "       13.5       , 10.03333333,  9.55      ,  8.5       , 11.06666667,\n",
       "        9.56666667, 10.55      ,  8.8       , 13.56666667, 11.95      ,\n",
       "        9.95      ,  9.23333333,  9.25      ,  9.05      , 10.75      ])"
      ]
     },
     "execution_count": 27,
     "metadata": {},
     "output_type": "execute_result"
    }
   ],
   "source": [
    "df_numerical[\"alcohol\"].unique()"
   ]
  },
  {
   "cell_type": "code",
   "execution_count": 28,
   "id": "7d79ead1",
   "metadata": {
    "execution": {
     "iopub.execute_input": "2024-11-23T14:23:28.789235Z",
     "iopub.status.busy": "2024-11-23T14:23:28.788173Z",
     "iopub.status.idle": "2024-11-23T14:23:28.796180Z",
     "shell.execute_reply": "2024-11-23T14:23:28.795128Z"
    },
    "papermill": {
     "duration": 0.025161,
     "end_time": "2024-11-23T14:23:28.798088",
     "exception": false,
     "start_time": "2024-11-23T14:23:28.772927",
     "status": "completed"
    },
    "tags": []
   },
   "outputs": [
    {
     "name": "stdout",
     "output_type": "stream",
     "text": [
      "There are 96 unique values in \"fixed acidity\" numerical feature.\n",
      "\n",
      "There are 143 unique values in \"volatile acidity\" numerical feature.\n",
      "\n",
      "There are 80 unique values in \"citric acid\" numerical feature.\n",
      "\n",
      "There are 91 unique values in \"residual sugar\" numerical feature.\n",
      "\n",
      "There are 153 unique values in \"chlorides\" numerical feature.\n",
      "\n",
      "There are 60 unique values in \"free sulfur dioxide\" numerical feature.\n",
      "\n",
      "There are 144 unique values in \"total sulfur dioxide\" numerical feature.\n",
      "\n",
      "There are 436 unique values in \"density\" numerical feature.\n",
      "\n",
      "There are 89 unique values in \"pH\" numerical feature.\n",
      "\n",
      "There are 96 unique values in \"sulphates\" numerical feature.\n",
      "\n",
      "There are 65 unique values in \"alcohol\" numerical feature.\n",
      "\n"
     ]
    }
   ],
   "source": [
    "for col in df_numerical.columns:\n",
    "    print(f'There are {df_numerical[col].nunique()} unique values in \"{col}\" numerical feature.\\n')"
   ]
  },
  {
   "cell_type": "code",
   "execution_count": 29,
   "id": "a4b46569",
   "metadata": {
    "execution": {
     "iopub.execute_input": "2024-11-23T14:23:28.828830Z",
     "iopub.status.busy": "2024-11-23T14:23:28.828041Z",
     "iopub.status.idle": "2024-11-23T14:23:28.849873Z",
     "shell.execute_reply": "2024-11-23T14:23:28.848701Z"
    },
    "papermill": {
     "duration": 0.039917,
     "end_time": "2024-11-23T14:23:28.852343",
     "exception": false,
     "start_time": "2024-11-23T14:23:28.812426",
     "status": "completed"
    },
    "tags": []
   },
   "outputs": [
    {
     "name": "stdout",
     "output_type": "stream",
     "text": [
      "fixed acidity\n",
      "7.2     67\n",
      "7.1     57\n",
      "7.8     53\n",
      "7.5     52\n",
      "7.0     50\n",
      "        ..\n",
      "13.5     1\n",
      "13.8     1\n",
      "13.4     1\n",
      "4.7      1\n",
      "5.5      1\n",
      "Name: count, Length: 96, dtype: int64\n",
      " *********************************************\n",
      "volatile acidity\n",
      "0.600    47\n",
      "0.500    46\n",
      "0.430    43\n",
      "0.590    39\n",
      "0.360    38\n",
      "         ..\n",
      "1.035     1\n",
      "0.565     1\n",
      "1.130     1\n",
      "1.115     1\n",
      "1.090     1\n",
      "Name: count, Length: 143, dtype: int64\n",
      " *********************************************\n",
      "citric acid\n",
      "0.00    132\n",
      "0.49     68\n",
      "0.24     51\n",
      "0.02     50\n",
      "0.26     38\n",
      "       ... \n",
      "0.72      1\n",
      "0.62      1\n",
      "0.75      1\n",
      "1.00      1\n",
      "0.78      1\n",
      "Name: count, Length: 80, dtype: int64\n",
      " *********************************************\n",
      "residual sugar\n",
      "2.00     156\n",
      "2.20     131\n",
      "1.80     129\n",
      "2.10     128\n",
      "1.90     117\n",
      "        ... \n",
      "4.25       1\n",
      "2.85       1\n",
      "3.45       1\n",
      "2.35       1\n",
      "13.90      1\n",
      "Name: count, Length: 91, dtype: int64\n",
      " *********************************************\n",
      "chlorides\n",
      "0.080    66\n",
      "0.074    55\n",
      "0.076    51\n",
      "0.078    51\n",
      "0.084    49\n",
      "         ..\n",
      "0.108     1\n",
      "0.148     1\n",
      "0.143     1\n",
      "0.222     1\n",
      "0.230     1\n",
      "Name: count, Length: 153, dtype: int64\n",
      " *********************************************\n",
      "free sulfur dioxide\n",
      "6.0     138\n",
      "5.0     104\n",
      "10.0     79\n",
      "15.0     78\n",
      "12.0     75\n",
      "7.0      71\n",
      "9.0      62\n",
      "16.0     61\n",
      "17.0     60\n",
      "11.0     59\n",
      "13.0     57\n",
      "8.0      56\n",
      "14.0     50\n",
      "3.0      49\n",
      "18.0     46\n",
      "4.0      41\n",
      "21.0     41\n",
      "19.0     39\n",
      "24.0     34\n",
      "26.0     32\n",
      "23.0     32\n",
      "20.0     30\n",
      "27.0     29\n",
      "25.0     24\n",
      "29.0     23\n",
      "28.0     23\n",
      "22.0     22\n",
      "32.0     22\n",
      "31.0     20\n",
      "34.0     18\n",
      "30.0     16\n",
      "35.0     15\n",
      "36.0     11\n",
      "33.0     11\n",
      "38.0      9\n",
      "41.0      7\n",
      "40.0      6\n",
      "39.0      5\n",
      "48.0      4\n",
      "51.0      4\n",
      "45.0      3\n",
      "1.0       3\n",
      "43.0      3\n",
      "42.0      3\n",
      "52.0      3\n",
      "37.0      3\n",
      "68.0      2\n",
      "55.0      2\n",
      "50.0      2\n",
      "37.5      2\n",
      "53.0      1\n",
      "72.0      1\n",
      "57.0      1\n",
      "47.0      1\n",
      "5.5       1\n",
      "2.0       1\n",
      "46.0      1\n",
      "54.0      1\n",
      "40.5      1\n",
      "66.0      1\n",
      "Name: count, dtype: int64\n",
      " *********************************************\n",
      "total sulfur dioxide\n",
      "28.0     43\n",
      "24.0     36\n",
      "15.0     35\n",
      "18.0     35\n",
      "23.0     34\n",
      "         ..\n",
      "139.0     1\n",
      "149.0     1\n",
      "152.0     1\n",
      "155.0     1\n",
      "165.0     1\n",
      "Name: count, Length: 144, dtype: int64\n",
      " *********************************************\n",
      "density\n",
      "0.99720    36\n",
      "0.99680    35\n",
      "0.99760    35\n",
      "0.99800    29\n",
      "0.99620    28\n",
      "           ..\n",
      "0.99684     1\n",
      "0.99764     1\n",
      "0.99473     1\n",
      "0.99320     1\n",
      "0.99651     1\n",
      "Name: count, Length: 436, dtype: int64\n",
      " *********************************************\n",
      "pH\n",
      "3.30    57\n",
      "3.36    56\n",
      "3.26    53\n",
      "3.38    48\n",
      "3.39    48\n",
      "        ..\n",
      "3.75     1\n",
      "2.74     1\n",
      "3.70     1\n",
      "3.85     1\n",
      "2.90     1\n",
      "Name: count, Length: 89, dtype: int64\n",
      " *********************************************\n",
      "sulphates\n",
      "0.60    69\n",
      "0.58    68\n",
      "0.54    68\n",
      "0.62    61\n",
      "0.56    60\n",
      "        ..\n",
      "1.00     1\n",
      "1.59     1\n",
      "0.33     1\n",
      "1.26     1\n",
      "1.01     1\n",
      "Name: count, Length: 96, dtype: int64\n",
      " *********************************************\n",
      "alcohol\n",
      "9.500000     139\n",
      "9.400000     103\n",
      "9.800000      78\n",
      "9.200000      72\n",
      "10.000000     67\n",
      "            ... \n",
      "9.950000       1\n",
      "9.233333       1\n",
      "9.250000       1\n",
      "9.050000       1\n",
      "10.750000      1\n",
      "Name: count, Length: 65, dtype: int64\n",
      " *********************************************\n"
     ]
    }
   ],
   "source": [
    "# Her bir kategorik değişken için toplam gözlem sayısını value_counts() ile buluyoruz.\n",
    "for col in df_numerical.columns:\n",
    "    print(f'{df_numerical[col].value_counts()}\\n', 5*\"*********\")"
   ]
  },
  {
   "cell_type": "code",
   "execution_count": 30,
   "id": "e9e55e54",
   "metadata": {
    "execution": {
     "iopub.execute_input": "2024-11-23T14:23:28.883599Z",
     "iopub.status.busy": "2024-11-23T14:23:28.883236Z",
     "iopub.status.idle": "2024-11-23T14:23:29.099910Z",
     "shell.execute_reply": "2024-11-23T14:23:29.098946Z"
    },
    "papermill": {
     "duration": 0.234514,
     "end_time": "2024-11-23T14:23:29.101860",
     "exception": false,
     "start_time": "2024-11-23T14:23:28.867346",
     "status": "completed"
    },
    "tags": []
   },
   "outputs": [
    {
     "data": {
      "image/png": "[encoded data removed]",
      "text/plain": [
       "<Figure size 1000x600 with 1 Axes>"
      ]
     },
     "metadata": {},
     "output_type": "display_data"
    }
   ],
   "source": [
    "# pH değeri 2.5 ile 3 arasında olan değerleri seçelim\n",
    "filtered_df = df[(df['pH'] >= 2.5) & (df['pH'] < 3)]\n",
    "\n",
    "# Bu aralıkta pH kategorilerinin gözlem sayılarını alalım\n",
    "pH_counts_filtered = filtered_df['pH'].value_counts()\n",
    "\n",
    "# Belirli pH aralığına göre bar grafiği\n",
    "plt.figure(figsize=(10,6))\n",
    "pH_counts_filtered.plot.barh(color='lightgreen')\n",
    "plt.title('pH 2.5 ile 3 Arasındaki Kategorilerin Dağılımı', fontsize=16)\n",
    "plt.xlabel('Frekans', fontsize=12)\n",
    "plt.ylabel('pH Değeri', fontsize=12)\n",
    "plt.show()\n"
   ]
  },
  {
   "cell_type": "code",
   "execution_count": 31,
   "id": "e4da124f",
   "metadata": {
    "execution": {
     "iopub.execute_input": "2024-11-23T14:23:29.133048Z",
     "iopub.status.busy": "2024-11-23T14:23:29.132487Z",
     "iopub.status.idle": "2024-11-23T14:23:29.459803Z",
     "shell.execute_reply": "2024-11-23T14:23:29.458860Z"
    },
    "papermill": {
     "duration": 0.345005,
     "end_time": "2024-11-23T14:23:29.461758",
     "exception": false,
     "start_time": "2024-11-23T14:23:29.116753",
     "status": "completed"
    },
    "tags": []
   },
   "outputs": [
    {
     "data": {
      "image/png": "[encoded data removed]",
      "text/plain": [
       "<Figure size 1000x600 with 1 Axes>"
      ]
     },
     "metadata": {},
     "output_type": "display_data"
    }
   ],
   "source": [
    "# pH değeri 3.5 ve üzeri olanları filtreleyelim\n",
    "filtered_df = df[df['pH'] >= 3.5]\n",
    "\n",
    "# Seaborn ile bu filtrelenmiş pH değerlerinin gözlem sayılarını görselleştirelim\n",
    "plt.figure(figsize=(10,6))\n",
    "sns.countplot(x='pH', data=filtered_df, palette='coolwarm')\n",
    "plt.title('pH 3.5 ve Üzeri Kategorilerinin Dağılımı', fontsize=16)\n",
    "plt.xlabel('pH Değeri', fontsize=12)\n",
    "plt.ylabel('Frekans', fontsize=12)\n",
    "plt.show()"
   ]
  },
  {
   "cell_type": "markdown",
   "id": "55c3674e",
   "metadata": {
    "papermill": {
     "duration": 0.015017,
     "end_time": "2024-11-23T14:23:29.492171",
     "exception": false,
     "start_time": "2024-11-23T14:23:29.477154",
     "status": "completed"
    },
    "tags": []
   },
   "source": [
    "**Aşağıdaki kod, her quality kategorisi için pH değerlerinin ortalamasını ve maksimum değerini verir.**"
   ]
  },
  {
   "cell_type": "code",
   "execution_count": 32,
   "id": "a62e72f5",
   "metadata": {
    "execution": {
     "iopub.execute_input": "2024-11-23T14:23:29.524736Z",
     "iopub.status.busy": "2024-11-23T14:23:29.523986Z",
     "iopub.status.idle": "2024-11-23T14:23:29.536525Z",
     "shell.execute_reply": "2024-11-23T14:23:29.535565Z"
    },
    "papermill": {
     "duration": 0.03103,
     "end_time": "2024-11-23T14:23:29.538531",
     "exception": false,
     "start_time": "2024-11-23T14:23:29.507501",
     "status": "completed"
    },
    "tags": []
   },
   "outputs": [
    {
     "name": "stdout",
     "output_type": "stream",
     "text": [
      "             mean   max\n",
      "quality                \n",
      "3        3.398000  3.63\n",
      "4        3.381509  3.90\n",
      "5        3.304949  3.74\n",
      "6        3.318072  4.01\n",
      "7        3.290754  3.78\n",
      "8        3.267222  3.72\n"
     ]
    }
   ],
   "source": [
    "# 'quality' kategorisine göre gruplama yapalım ve her grup için pH ortalamasını ve maksimum değerini hesaplayalım\n",
    "grouped_stats = df.groupby('quality')['pH'].agg(['mean', 'max'])\n",
    "\n",
    "# Sonuçları görüntüleyelim\n",
    "print(grouped_stats)"
   ]
  },
  {
   "cell_type": "code",
   "execution_count": 33,
   "id": "33ef541f",
   "metadata": {
    "execution": {
     "iopub.execute_input": "2024-11-23T14:23:29.571152Z",
     "iopub.status.busy": "2024-11-23T14:23:29.570544Z",
     "iopub.status.idle": "2024-11-23T14:23:29.777823Z",
     "shell.execute_reply": "2024-11-23T14:23:29.776860Z"
    },
    "papermill": {
     "duration": 0.225989,
     "end_time": "2024-11-23T14:23:29.779973",
     "exception": false,
     "start_time": "2024-11-23T14:23:29.553984",
     "status": "completed"
    },
    "tags": []
   },
   "outputs": [
    {
     "data": {
      "image/png": "[encoded data removed]",
      "text/plain": [
       "<Figure size 1200x600 with 1 Axes>"
      ]
     },
     "metadata": {},
     "output_type": "display_data"
    }
   ],
   "source": [
    "# 'quality' kategorisine göre gruplama yapalım ve pH ortalamasını hesaplayalım\n",
    "grouped_df = df.groupby('quality')['pH'].mean()\n",
    "\n",
    "# Bar grafiği ile görselleştirelim\n",
    "plt.figure(figsize=(12,6))\n",
    "grouped_df.plot.bar(color='lightblue')\n",
    "plt.title('Quality’ye Göre pH Ortalaması', fontsize=16)\n",
    "plt.xlabel('Quality', fontsize=12)\n",
    "plt.ylabel('pH Ortalaması', fontsize=12)\n",
    "plt.xticks(rotation=45)\n",
    "plt.show()\n"
   ]
  },
  {
   "cell_type": "markdown",
   "id": "e60fd665",
   "metadata": {
    "papermill": {
     "duration": 0.015645,
     "end_time": "2024-11-23T14:23:29.811945",
     "exception": false,
     "start_time": "2024-11-23T14:23:29.796300",
     "status": "completed"
    },
    "tags": []
   },
   "source": [
    "# **5-Sürekli Değişken Analizi**"
   ]
  },
  {
   "cell_type": "code",
   "execution_count": 34,
   "id": "a175d20e",
   "metadata": {
    "execution": {
     "iopub.execute_input": "2024-11-23T14:23:29.845830Z",
     "iopub.status.busy": "2024-11-23T14:23:29.845452Z",
     "iopub.status.idle": "2024-11-23T14:23:29.864058Z",
     "shell.execute_reply": "2024-11-23T14:23:29.863105Z"
    },
    "papermill": {
     "duration": 0.0378,
     "end_time": "2024-11-23T14:23:29.866107",
     "exception": false,
     "start_time": "2024-11-23T14:23:29.828307",
     "status": "completed"
    },
    "tags": []
   },
   "outputs": [
    {
     "data": {
      "text/html": [
       "<div>\n",
       "<style scoped>\n",
       "    .dataframe tbody tr th:only-of-type {\n",
       "        vertical-align: middle;\n",
       "    }\n",
       "\n",
       "    .dataframe tbody tr th {\n",
       "        vertical-align: top;\n",
       "    }\n",
       "\n",
       "    .dataframe thead th {\n",
       "        text-align: right;\n",
       "    }\n",
       "</style>\n",
       "<table border=\"1\" class=\"dataframe\">\n",
       "  <thead>\n",
       "    <tr style=\"text-align: right;\">\n",
       "      <th></th>\n",
       "      <th>fixed acidity</th>\n",
       "      <th>volatile acidity</th>\n",
       "      <th>citric acid</th>\n",
       "      <th>residual sugar</th>\n",
       "      <th>chlorides</th>\n",
       "      <th>free sulfur dioxide</th>\n",
       "      <th>total sulfur dioxide</th>\n",
       "      <th>density</th>\n",
       "      <th>pH</th>\n",
       "      <th>sulphates</th>\n",
       "      <th>alcohol</th>\n",
       "      <th>quality</th>\n",
       "    </tr>\n",
       "  </thead>\n",
       "  <tbody>\n",
       "    <tr>\n",
       "      <th>0</th>\n",
       "      <td>7.4</td>\n",
       "      <td>0.70</td>\n",
       "      <td>0.00</td>\n",
       "      <td>1.9</td>\n",
       "      <td>0.076</td>\n",
       "      <td>11.0</td>\n",
       "      <td>34.0</td>\n",
       "      <td>0.9978</td>\n",
       "      <td>3.51</td>\n",
       "      <td>0.56</td>\n",
       "      <td>9.4</td>\n",
       "      <td>5</td>\n",
       "    </tr>\n",
       "    <tr>\n",
       "      <th>1</th>\n",
       "      <td>7.8</td>\n",
       "      <td>0.88</td>\n",
       "      <td>0.00</td>\n",
       "      <td>2.6</td>\n",
       "      <td>0.098</td>\n",
       "      <td>25.0</td>\n",
       "      <td>67.0</td>\n",
       "      <td>0.9968</td>\n",
       "      <td>3.20</td>\n",
       "      <td>0.68</td>\n",
       "      <td>9.8</td>\n",
       "      <td>5</td>\n",
       "    </tr>\n",
       "    <tr>\n",
       "      <th>2</th>\n",
       "      <td>7.8</td>\n",
       "      <td>0.76</td>\n",
       "      <td>0.04</td>\n",
       "      <td>2.3</td>\n",
       "      <td>0.092</td>\n",
       "      <td>15.0</td>\n",
       "      <td>54.0</td>\n",
       "      <td>0.9970</td>\n",
       "      <td>3.26</td>\n",
       "      <td>0.65</td>\n",
       "      <td>9.8</td>\n",
       "      <td>5</td>\n",
       "    </tr>\n",
       "    <tr>\n",
       "      <th>3</th>\n",
       "      <td>11.2</td>\n",
       "      <td>0.28</td>\n",
       "      <td>0.56</td>\n",
       "      <td>1.9</td>\n",
       "      <td>0.075</td>\n",
       "      <td>17.0</td>\n",
       "      <td>60.0</td>\n",
       "      <td>0.9980</td>\n",
       "      <td>3.16</td>\n",
       "      <td>0.58</td>\n",
       "      <td>9.8</td>\n",
       "      <td>6</td>\n",
       "    </tr>\n",
       "    <tr>\n",
       "      <th>4</th>\n",
       "      <td>7.4</td>\n",
       "      <td>0.70</td>\n",
       "      <td>0.00</td>\n",
       "      <td>1.9</td>\n",
       "      <td>0.076</td>\n",
       "      <td>11.0</td>\n",
       "      <td>34.0</td>\n",
       "      <td>0.9978</td>\n",
       "      <td>3.51</td>\n",
       "      <td>0.56</td>\n",
       "      <td>9.4</td>\n",
       "      <td>5</td>\n",
       "    </tr>\n",
       "  </tbody>\n",
       "</table>\n",
       "</div>"
      ],
      "text/plain": [
       "   fixed acidity  volatile acidity  citric acid  residual sugar  chlorides  \\\n",
       "0            7.4              0.70         0.00             1.9      0.076   \n",
       "1            7.8              0.88         0.00             2.6      0.098   \n",
       "2            7.8              0.76         0.04             2.3      0.092   \n",
       "3           11.2              0.28         0.56             1.9      0.075   \n",
       "4            7.4              0.70         0.00             1.9      0.076   \n",
       "\n",
       "   free sulfur dioxide  total sulfur dioxide  density    pH  sulphates  \\\n",
       "0                 11.0                  34.0   0.9978  3.51       0.56   \n",
       "1                 25.0                  67.0   0.9968  3.20       0.68   \n",
       "2                 15.0                  54.0   0.9970  3.26       0.65   \n",
       "3                 17.0                  60.0   0.9980  3.16       0.58   \n",
       "4                 11.0                  34.0   0.9978  3.51       0.56   \n",
       "\n",
       "   alcohol  quality  \n",
       "0      9.4        5  \n",
       "1      9.8        5  \n",
       "2      9.8        5  \n",
       "3      9.8        6  \n",
       "4      9.4        5  "
      ]
     },
     "execution_count": 34,
     "metadata": {},
     "output_type": "execute_result"
    }
   ],
   "source": [
    "df_numerical = df.select_dtypes(include = [\"float64\", \"int64\"])\n",
    "df_numerical.head()"
   ]
  },
  {
   "cell_type": "code",
   "execution_count": 35,
   "id": "900981b8",
   "metadata": {
    "execution": {
     "iopub.execute_input": "2024-11-23T14:23:29.900294Z",
     "iopub.status.busy": "2024-11-23T14:23:29.899628Z",
     "iopub.status.idle": "2024-11-23T14:23:29.935617Z",
     "shell.execute_reply": "2024-11-23T14:23:29.934631Z"
    },
    "papermill": {
     "duration": 0.055328,
     "end_time": "2024-11-23T14:23:29.937759",
     "exception": false,
     "start_time": "2024-11-23T14:23:29.882431",
     "status": "completed"
    },
    "tags": []
   },
   "outputs": [
    {
     "data": {
      "text/html": [
       "<div>\n",
       "<style scoped>\n",
       "    .dataframe tbody tr th:only-of-type {\n",
       "        vertical-align: middle;\n",
       "    }\n",
       "\n",
       "    .dataframe tbody tr th {\n",
       "        vertical-align: top;\n",
       "    }\n",
       "\n",
       "    .dataframe thead th {\n",
       "        text-align: right;\n",
       "    }\n",
       "</style>\n",
       "<table border=\"1\" class=\"dataframe\">\n",
       "  <thead>\n",
       "    <tr style=\"text-align: right;\">\n",
       "      <th></th>\n",
       "      <th>count</th>\n",
       "      <th>mean</th>\n",
       "      <th>std</th>\n",
       "      <th>min</th>\n",
       "      <th>25%</th>\n",
       "      <th>50%</th>\n",
       "      <th>75%</th>\n",
       "      <th>max</th>\n",
       "    </tr>\n",
       "  </thead>\n",
       "  <tbody>\n",
       "    <tr>\n",
       "      <th>fixed acidity</th>\n",
       "      <td>1599.0</td>\n",
       "      <td>8.319637</td>\n",
       "      <td>1.741096</td>\n",
       "      <td>4.60000</td>\n",
       "      <td>7.1000</td>\n",
       "      <td>7.90000</td>\n",
       "      <td>9.200000</td>\n",
       "      <td>15.90000</td>\n",
       "    </tr>\n",
       "    <tr>\n",
       "      <th>volatile acidity</th>\n",
       "      <td>1599.0</td>\n",
       "      <td>0.527821</td>\n",
       "      <td>0.179060</td>\n",
       "      <td>0.12000</td>\n",
       "      <td>0.3900</td>\n",
       "      <td>0.52000</td>\n",
       "      <td>0.640000</td>\n",
       "      <td>1.58000</td>\n",
       "    </tr>\n",
       "    <tr>\n",
       "      <th>citric acid</th>\n",
       "      <td>1599.0</td>\n",
       "      <td>0.270976</td>\n",
       "      <td>0.194801</td>\n",
       "      <td>0.00000</td>\n",
       "      <td>0.0900</td>\n",
       "      <td>0.26000</td>\n",
       "      <td>0.420000</td>\n",
       "      <td>1.00000</td>\n",
       "    </tr>\n",
       "    <tr>\n",
       "      <th>residual sugar</th>\n",
       "      <td>1599.0</td>\n",
       "      <td>2.538806</td>\n",
       "      <td>1.409928</td>\n",
       "      <td>0.90000</td>\n",
       "      <td>1.9000</td>\n",
       "      <td>2.20000</td>\n",
       "      <td>2.600000</td>\n",
       "      <td>15.50000</td>\n",
       "    </tr>\n",
       "    <tr>\n",
       "      <th>chlorides</th>\n",
       "      <td>1599.0</td>\n",
       "      <td>0.087467</td>\n",
       "      <td>0.047065</td>\n",
       "      <td>0.01200</td>\n",
       "      <td>0.0700</td>\n",
       "      <td>0.07900</td>\n",
       "      <td>0.090000</td>\n",
       "      <td>0.61100</td>\n",
       "    </tr>\n",
       "    <tr>\n",
       "      <th>free sulfur dioxide</th>\n",
       "      <td>1599.0</td>\n",
       "      <td>15.874922</td>\n",
       "      <td>10.460157</td>\n",
       "      <td>1.00000</td>\n",
       "      <td>7.0000</td>\n",
       "      <td>14.00000</td>\n",
       "      <td>21.000000</td>\n",
       "      <td>72.00000</td>\n",
       "    </tr>\n",
       "    <tr>\n",
       "      <th>total sulfur dioxide</th>\n",
       "      <td>1599.0</td>\n",
       "      <td>46.467792</td>\n",
       "      <td>32.895324</td>\n",
       "      <td>6.00000</td>\n",
       "      <td>22.0000</td>\n",
       "      <td>38.00000</td>\n",
       "      <td>62.000000</td>\n",
       "      <td>289.00000</td>\n",
       "    </tr>\n",
       "    <tr>\n",
       "      <th>density</th>\n",
       "      <td>1599.0</td>\n",
       "      <td>0.996747</td>\n",
       "      <td>0.001887</td>\n",
       "      <td>0.99007</td>\n",
       "      <td>0.9956</td>\n",
       "      <td>0.99675</td>\n",
       "      <td>0.997835</td>\n",
       "      <td>1.00369</td>\n",
       "    </tr>\n",
       "    <tr>\n",
       "      <th>pH</th>\n",
       "      <td>1599.0</td>\n",
       "      <td>3.311113</td>\n",
       "      <td>0.154386</td>\n",
       "      <td>2.74000</td>\n",
       "      <td>3.2100</td>\n",
       "      <td>3.31000</td>\n",
       "      <td>3.400000</td>\n",
       "      <td>4.01000</td>\n",
       "    </tr>\n",
       "    <tr>\n",
       "      <th>sulphates</th>\n",
       "      <td>1599.0</td>\n",
       "      <td>0.658149</td>\n",
       "      <td>0.169507</td>\n",
       "      <td>0.33000</td>\n",
       "      <td>0.5500</td>\n",
       "      <td>0.62000</td>\n",
       "      <td>0.730000</td>\n",
       "      <td>2.00000</td>\n",
       "    </tr>\n",
       "    <tr>\n",
       "      <th>alcohol</th>\n",
       "      <td>1599.0</td>\n",
       "      <td>10.422983</td>\n",
       "      <td>1.065668</td>\n",
       "      <td>8.40000</td>\n",
       "      <td>9.5000</td>\n",
       "      <td>10.20000</td>\n",
       "      <td>11.100000</td>\n",
       "      <td>14.90000</td>\n",
       "    </tr>\n",
       "    <tr>\n",
       "      <th>quality</th>\n",
       "      <td>1599.0</td>\n",
       "      <td>5.636023</td>\n",
       "      <td>0.807569</td>\n",
       "      <td>3.00000</td>\n",
       "      <td>5.0000</td>\n",
       "      <td>6.00000</td>\n",
       "      <td>6.000000</td>\n",
       "      <td>8.00000</td>\n",
       "    </tr>\n",
       "  </tbody>\n",
       "</table>\n",
       "</div>"
      ],
      "text/plain": [
       "                       count       mean        std      min      25%  \\\n",
       "fixed acidity         1599.0   8.319637   1.741096  4.60000   7.1000   \n",
       "volatile acidity      1599.0   0.527821   0.179060  0.12000   0.3900   \n",
       "citric acid           1599.0   0.270976   0.194801  0.00000   0.0900   \n",
       "residual sugar        1599.0   2.538806   1.409928  0.90000   1.9000   \n",
       "chlorides             1599.0   0.087467   0.047065  0.01200   0.0700   \n",
       "free sulfur dioxide   1599.0  15.874922  10.460157  1.00000   7.0000   \n",
       "total sulfur dioxide  1599.0  46.467792  32.895324  6.00000  22.0000   \n",
       "density               1599.0   0.996747   0.001887  0.99007   0.9956   \n",
       "pH                    1599.0   3.311113   0.154386  2.74000   3.2100   \n",
       "sulphates             1599.0   0.658149   0.169507  0.33000   0.5500   \n",
       "alcohol               1599.0  10.422983   1.065668  8.40000   9.5000   \n",
       "quality               1599.0   5.636023   0.807569  3.00000   5.0000   \n",
       "\n",
       "                           50%        75%        max  \n",
       "fixed acidity          7.90000   9.200000   15.90000  \n",
       "volatile acidity       0.52000   0.640000    1.58000  \n",
       "citric acid            0.26000   0.420000    1.00000  \n",
       "residual sugar         2.20000   2.600000   15.50000  \n",
       "chlorides              0.07900   0.090000    0.61100  \n",
       "free sulfur dioxide   14.00000  21.000000   72.00000  \n",
       "total sulfur dioxide  38.00000  62.000000  289.00000  \n",
       "density                0.99675   0.997835    1.00369  \n",
       "pH                     3.31000   3.400000    4.01000  \n",
       "sulphates              0.62000   0.730000    2.00000  \n",
       "alcohol               10.20000  11.100000   14.90000  \n",
       "quality                6.00000   6.000000    8.00000  "
      ]
     },
     "execution_count": 35,
     "metadata": {},
     "output_type": "execute_result"
    }
   ],
   "source": [
    "df_numerical.describe().T"
   ]
  },
  {
   "cell_type": "code",
   "execution_count": 36,
   "id": "91e3eec4",
   "metadata": {
    "execution": {
     "iopub.execute_input": "2024-11-23T14:23:29.972992Z",
     "iopub.status.busy": "2024-11-23T14:23:29.972627Z",
     "iopub.status.idle": "2024-11-23T14:23:29.978659Z",
     "shell.execute_reply": "2024-11-23T14:23:29.977608Z"
    },
    "papermill": {
     "duration": 0.026193,
     "end_time": "2024-11-23T14:23:29.980548",
     "exception": false,
     "start_time": "2024-11-23T14:23:29.954355",
     "status": "completed"
    },
    "tags": []
   },
   "outputs": [],
   "source": [
    "# Bir veri setindeki numerik kolonların istatistiksel bilgilerine erişmek için basitçe bu tarz bir fonksiyon yazabiliriz.\n",
    "\n",
    "def give_stats(dataframe: pd.DataFrame) -> None:\n",
    "    num_df = dataframe.select_dtypes(include = [\"float\", \"int\"])\n",
    "\n",
    "    for col in num_df.columns:\n",
    "        print(f\"**********{col}**********\")\n",
    "        print(f\"Mean value of {col} is {num_df[col].mean():.2f}\")\n",
    "        print(f\"Std value of {col} is {num_df[col].std():.2f}\")\n",
    "        print(f\"Max value of {col} is {num_df[col].max()}\")\n",
    "        print(f\"Min value of {col} is {num_df[col].min()}\")\n",
    "        print(f\"Count value of {col} is {num_df[col].count()}\")\n",
    "        print(f\"Median value of {col} is {num_df[col].median()}\\n\")"
   ]
  },
  {
   "cell_type": "code",
   "execution_count": 37,
   "id": "6cc12ebf",
   "metadata": {
    "execution": {
     "iopub.execute_input": "2024-11-23T14:23:30.015767Z",
     "iopub.status.busy": "2024-11-23T14:23:30.014898Z",
     "iopub.status.idle": "2024-11-23T14:23:30.028234Z",
     "shell.execute_reply": "2024-11-23T14:23:30.027278Z"
    },
    "papermill": {
     "duration": 0.033418,
     "end_time": "2024-11-23T14:23:30.030485",
     "exception": false,
     "start_time": "2024-11-23T14:23:29.997067",
     "status": "completed"
    },
    "tags": []
   },
   "outputs": [
    {
     "name": "stdout",
     "output_type": "stream",
     "text": [
      "**********fixed acidity**********\n",
      "Mean value of fixed acidity is 8.32\n",
      "Std value of fixed acidity is 1.74\n",
      "Max value of fixed acidity is 15.9\n",
      "Min value of fixed acidity is 4.6\n",
      "Count value of fixed acidity is 1599\n",
      "Median value of fixed acidity is 7.9\n",
      "\n",
      "**********volatile acidity**********\n",
      "Mean value of volatile acidity is 0.53\n",
      "Std value of volatile acidity is 0.18\n",
      "Max value of volatile acidity is 1.58\n",
      "Min value of volatile acidity is 0.12\n",
      "Count value of volatile acidity is 1599\n",
      "Median value of volatile acidity is 0.52\n",
      "\n",
      "**********citric acid**********\n",
      "Mean value of citric acid is 0.27\n",
      "Std value of citric acid is 0.19\n",
      "Max value of citric acid is 1.0\n",
      "Min value of citric acid is 0.0\n",
      "Count value of citric acid is 1599\n",
      "Median value of citric acid is 0.26\n",
      "\n",
      "**********residual sugar**********\n",
      "Mean value of residual sugar is 2.54\n",
      "Std value of residual sugar is 1.41\n",
      "Max value of residual sugar is 15.5\n",
      "Min value of residual sugar is 0.9\n",
      "Count value of residual sugar is 1599\n",
      "Median value of residual sugar is 2.2\n",
      "\n",
      "**********chlorides**********\n",
      "Mean value of chlorides is 0.09\n",
      "Std value of chlorides is 0.05\n",
      "Max value of chlorides is 0.611\n",
      "Min value of chlorides is 0.012\n",
      "Count value of chlorides is 1599\n",
      "Median value of chlorides is 0.079\n",
      "\n",
      "**********free sulfur dioxide**********\n",
      "Mean value of free sulfur dioxide is 15.87\n",
      "Std value of free sulfur dioxide is 10.46\n",
      "Max value of free sulfur dioxide is 72.0\n",
      "Min value of free sulfur dioxide is 1.0\n",
      "Count value of free sulfur dioxide is 1599\n",
      "Median value of free sulfur dioxide is 14.0\n",
      "\n",
      "**********total sulfur dioxide**********\n",
      "Mean value of total sulfur dioxide is 46.47\n",
      "Std value of total sulfur dioxide is 32.90\n",
      "Max value of total sulfur dioxide is 289.0\n",
      "Min value of total sulfur dioxide is 6.0\n",
      "Count value of total sulfur dioxide is 1599\n",
      "Median value of total sulfur dioxide is 38.0\n",
      "\n",
      "**********density**********\n",
      "Mean value of density is 1.00\n",
      "Std value of density is 0.00\n",
      "Max value of density is 1.00369\n",
      "Min value of density is 0.99007\n",
      "Count value of density is 1599\n",
      "Median value of density is 0.99675\n",
      "\n",
      "**********pH**********\n",
      "Mean value of pH is 3.31\n",
      "Std value of pH is 0.15\n",
      "Max value of pH is 4.01\n",
      "Min value of pH is 2.74\n",
      "Count value of pH is 1599\n",
      "Median value of pH is 3.31\n",
      "\n",
      "**********sulphates**********\n",
      "Mean value of sulphates is 0.66\n",
      "Std value of sulphates is 0.17\n",
      "Max value of sulphates is 2.0\n",
      "Min value of sulphates is 0.33\n",
      "Count value of sulphates is 1599\n",
      "Median value of sulphates is 0.62\n",
      "\n",
      "**********alcohol**********\n",
      "Mean value of alcohol is 10.42\n",
      "Std value of alcohol is 1.07\n",
      "Max value of alcohol is 14.9\n",
      "Min value of alcohol is 8.4\n",
      "Count value of alcohol is 1599\n",
      "Median value of alcohol is 10.2\n",
      "\n",
      "**********quality**********\n",
      "Mean value of quality is 5.64\n",
      "Std value of quality is 0.81\n",
      "Max value of quality is 8\n",
      "Min value of quality is 3\n",
      "Count value of quality is 1599\n",
      "Median value of quality is 6.0\n",
      "\n"
     ]
    }
   ],
   "source": [
    "give_stats(dataframe = df)"
   ]
  },
  {
   "cell_type": "code",
   "execution_count": 38,
   "id": "ae69ff86",
   "metadata": {
    "execution": {
     "iopub.execute_input": "2024-11-23T14:23:30.065953Z",
     "iopub.status.busy": "2024-11-23T14:23:30.065150Z",
     "iopub.status.idle": "2024-11-23T14:23:30.985617Z",
     "shell.execute_reply": "2024-11-23T14:23:30.984638Z"
    },
    "papermill": {
     "duration": 0.940474,
     "end_time": "2024-11-23T14:23:30.987756",
     "exception": false,
     "start_time": "2024-11-23T14:23:30.047282",
     "status": "completed"
    },
    "tags": []
   },
   "outputs": [
    {
     "name": "stderr",
     "output_type": "stream",
     "text": [
      "/opt/conda/lib/python3.10/site-packages/seaborn/_oldcore.py:1119: FutureWarning: use_inf_as_na option is deprecated and will be removed in a future version. Convert inf values to NaN before operating instead.\n",
      "  with pd.option_context('mode.use_inf_as_na', True):\n",
      "/opt/conda/lib/python3.10/site-packages/seaborn/_oldcore.py:1075: FutureWarning: When grouping with a length-1 list-like, you will need to pass a length-1 tuple to get_group in a future version of pandas. Pass `(name,)` instead of `name` to silence this warning.\n",
      "  data_subset = grouped_data.get_group(pd_key)\n",
      "/opt/conda/lib/python3.10/site-packages/seaborn/_oldcore.py:1075: FutureWarning: When grouping with a length-1 list-like, you will need to pass a length-1 tuple to get_group in a future version of pandas. Pass `(name,)` instead of `name` to silence this warning.\n",
      "  data_subset = grouped_data.get_group(pd_key)\n",
      "/opt/conda/lib/python3.10/site-packages/seaborn/_oldcore.py:1075: FutureWarning: When grouping with a length-1 list-like, you will need to pass a length-1 tuple to get_group in a future version of pandas. Pass `(name,)` instead of `name` to silence this warning.\n",
      "  data_subset = grouped_data.get_group(pd_key)\n",
      "/opt/conda/lib/python3.10/site-packages/seaborn/_oldcore.py:1075: FutureWarning: When grouping with a length-1 list-like, you will need to pass a length-1 tuple to get_group in a future version of pandas. Pass `(name,)` instead of `name` to silence this warning.\n",
      "  data_subset = grouped_data.get_group(pd_key)\n",
      "/opt/conda/lib/python3.10/site-packages/seaborn/_oldcore.py:1075: FutureWarning: When grouping with a length-1 list-like, you will need to pass a length-1 tuple to get_group in a future version of pandas. Pass `(name,)` instead of `name` to silence this warning.\n",
      "  data_subset = grouped_data.get_group(pd_key)\n",
      "/opt/conda/lib/python3.10/site-packages/seaborn/_oldcore.py:1075: FutureWarning: When grouping with a length-1 list-like, you will need to pass a length-1 tuple to get_group in a future version of pandas. Pass `(name,)` instead of `name` to silence this warning.\n",
      "  data_subset = grouped_data.get_group(pd_key)\n"
     ]
    },
    {
     "data": {
      "image/png": "[encoded data removed]",
      "text/plain": [
       "<Figure size 640x480 with 1 Axes>"
      ]
     },
     "metadata": {},
     "output_type": "display_data"
    }
   ],
   "source": [
    "sns.histplot(data = df, x = \"pH\", kde = True, hue = \"quality\");"
   ]
  },
  {
   "cell_type": "code",
   "execution_count": 39,
   "id": "dccb9a00",
   "metadata": {
    "execution": {
     "iopub.execute_input": "2024-11-23T14:23:31.025854Z",
     "iopub.status.busy": "2024-11-23T14:23:31.024968Z",
     "iopub.status.idle": "2024-11-23T14:23:31.260903Z",
     "shell.execute_reply": "2024-11-23T14:23:31.259959Z"
    },
    "papermill": {
     "duration": 0.256757,
     "end_time": "2024-11-23T14:23:31.262835",
     "exception": false,
     "start_time": "2024-11-23T14:23:31.006078",
     "status": "completed"
    },
    "tags": []
   },
   "outputs": [
    {
     "name": "stderr",
     "output_type": "stream",
     "text": [
      "/opt/conda/lib/python3.10/site-packages/seaborn/_oldcore.py:1119: FutureWarning: use_inf_as_na option is deprecated and will be removed in a future version. Convert inf values to NaN before operating instead.\n",
      "  with pd.option_context('mode.use_inf_as_na', True):\n"
     ]
    },
    {
     "data": {
      "image/png": "[encoded data removed]",
      "text/plain": [
       "<Figure size 640x480 with 1 Axes>"
      ]
     },
     "metadata": {},
     "output_type": "display_data"
    }
   ],
   "source": [
    "# kdeplot ise ilgili numerik değişkenin yoğunluğunu gösterir.\n",
    "sns.kdeplot(df['pH'], fill = True);"
   ]
  },
  {
   "cell_type": "code",
   "execution_count": 40,
   "id": "f8da35e0",
   "metadata": {
    "execution": {
     "iopub.execute_input": "2024-11-23T14:23:31.301963Z",
     "iopub.status.busy": "2024-11-23T14:23:31.301587Z",
     "iopub.status.idle": "2024-11-23T14:23:31.637944Z",
     "shell.execute_reply": "2024-11-23T14:23:31.636930Z"
    },
    "papermill": {
     "duration": 0.35889,
     "end_time": "2024-11-23T14:23:31.639934",
     "exception": false,
     "start_time": "2024-11-23T14:23:31.281044",
     "status": "completed"
    },
    "tags": []
   },
   "outputs": [
    {
     "data": {
      "text/plain": [
       "<seaborn.axisgrid.FacetGrid at 0x7ee0316634f0>"
      ]
     },
     "execution_count": 40,
     "metadata": {},
     "output_type": "execute_result"
    },
    {
     "data": {
      "image/png": "[encoded data removed]",
      "text/plain": [
       "<Figure size 500x500 with 1 Axes>"
      ]
     },
     "metadata": {},
     "output_type": "display_data"
    }
   ],
   "source": [
    "sns.catplot(data=df, x=\"quality\", y=\"pH\", kind=\"box\")"
   ]
  }
 ],
 "metadata": {
  "kaggle": {
   "accelerator": "none",
   "dataSources": [
    {
     "datasetId": 2489445,
     "sourceId": 4223560,
     "sourceType": "datasetVersion"
    }
   ],
   "dockerImageVersionId": 30786,
   "isGpuEnabled": false,
   "isInternetEnabled": false,
   "language": "python",
   "sourceType": "notebook"
  },
  "kernelspec": {
   "display_name": "Python 3",
   "language": "python",
   "name": "python3"
  },
  "language_info": {
   "codemirror_mode": {
    "name": "ipython",
    "version": 3
   },
   "file_extension": ".py",
   "mimetype": "text/x-python",
   "name": "python",
   "nbconvert_exporter": "python",
   "pygments_lexer": "ipython3",
   "version": "3.10.14"
  },
  "papermill": {
   "default_parameters": {},
   "duration": 53.905721,
   "end_time": "2024-11-23T14:23:32.279323",
   "environment_variables": {},
   "exception": null,
   "input_path": "__notebook__.ipynb",
   "output_path": "__notebook__.ipynb",
   "parameters": {},
   "start_time": "2024-11-23T14:22:38.373602",
   "version": "2.6.0"
  }
 },
 "nbformat": 4,
 "nbformat_minor": 5
}
